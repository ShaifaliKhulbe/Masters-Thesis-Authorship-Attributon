{
  "cells": [
    {
      "cell_type": "markdown",
      "metadata": {
        "id": "view-in-github",
        "colab_type": "text"
      },
      "source": [
        "<a href=\"https://colab.research.google.com/github/ShaifaliKhulbe/Masters-Thesis-Authorship-Attributon/blob/main/Hindi_baseline.ipynb\" target=\"_parent\"><img src=\"https://colab.research.google.com/assets/colab-badge.svg\" alt=\"Open In Colab\"/></a>"
      ]
    },
    {
      "cell_type": "markdown",
      "metadata": {
        "id": "HBd1SOjXTanV"
      },
      "source": [
        "**hindi baseline**"
      ]
    },
    {
      "cell_type": "code",
      "execution_count": null,
      "metadata": {
        "id": "iGq02Hp7R9uf"
      },
      "outputs": [],
      "source": [
        "!pip install indicnlp"
      ]
    },
    {
      "cell_type": "code",
      "execution_count": null,
      "metadata": {
        "id": "07anEb_5SiZV"
      },
      "outputs": [],
      "source": [
        "!pip install indic-nlp-library"
      ]
    },
    {
      "cell_type": "code",
      "execution_count": null,
      "metadata": {
        "id": "IciASeJeQBV7"
      },
      "outputs": [],
      "source": [
        "import pandas as pd\n",
        "import numpy as np\n",
        "import nltk\n",
        "import indicnlp\n",
        "import collections\n",
        "from nltk import word_tokenize\n",
        "from nltk.util import ngrams\n",
        "from sklearn.feature_extraction.text import CountVectorizer\n",
        "from sklearn.model_selection import train_test_split, cross_val_score\n",
        "from sklearn.svm import SVC\n",
        "from collections import Counter\n",
        "from sklearn.metrics import accuracy_score, f1_score, precision_score, recall_score\n",
        "from sklearn.metrics import classification_report\n",
        "from sklearn.preprocessing import LabelEncoder\n",
        "from sklearn.preprocessing import StandardScaler\n",
        "from indicnlp.tokenize import sentence_tokenize\n",
        "from indicnlp.tokenize import indic_tokenize\n",
        "nltk.download('punkt')\n",
        "nltk.download('averaged_perceptron_tagger')"
      ]
    },
    {
      "cell_type": "code",
      "execution_count": null,
      "metadata": {
        "colab": {
          "base_uri": "https://localhost:8080/"
        },
        "id": "qipc4rzAR9wv",
        "outputId": "711c3785-1931-4978-bf11-34b9c183e398"
      },
      "outputs": [
        {
          "output_type": "stream",
          "name": "stdout",
          "text": [
            "291\n"
          ]
        }
      ],
      "source": [
        "with open('hindi_stopwords.txt', 'r', encoding='utf-8') as f:\n",
        "    stopwords = []\n",
        "    for line in f:\n",
        "        line = line.strip()\n",
        "        if line:  # skip empty lines\n",
        "            stopwords.extend(line.split())\n",
        "print(len(stopwords))"
      ]
    },
    {
      "cell_type": "code",
      "execution_count": null,
      "metadata": {
        "id": "VusvSf7GR9zY"
      },
      "outputs": [],
      "source": [
        "# load data\n",
        "df = pd.read_csv('200_chunks_Hindi.csv', encoding='utf-8')\n",
        "test_df = pd.read_csv('Test_200_chunks_Hindi.csv', encoding='utf-8')\n",
        "\n",
        "def find_top_function_words(data, num):\n",
        "    \n",
        "    # tokenize each sentence and create a list of all words\n",
        "    words = []\n",
        "    for sentence in data['chunks']:\n",
        "        tokens = indic_tokenize.trivial_tokenize_indic(sentence)\n",
        "        words.extend(tokens)          \n",
        "\n",
        "    # count the frequency of each word in the entire CSV\n",
        "    word_freq = Counter(words)\n",
        "    \n",
        "    # sort the dictionary by frequency in descending order\n",
        "    sorted_word_freq = sorted(word_freq.items(), key=lambda x: x[1], reverse=True)\n",
        "\n",
        "    # extract the 100 most frequent stopwords\n",
        "    top_stop_words = [word[0] for word in sorted_word_freq if word[0] in stopwords][:num]\n",
        "\n",
        "    return top_stop_words\n",
        "       \n",
        "#NEW    \n",
        "top_function_words = find_top_function_words(df, 100)"
      ]
    },
    {
      "cell_type": "code",
      "execution_count": null,
      "metadata": {
        "id": "rbRM48tNR92k"
      },
      "outputs": [],
      "source": [
        "def create_feature_vector(sentence):\n",
        "\n",
        "    \n",
        "    # Tokenize the sentence into lowercase words\n",
        "    tokens = indic_tokenize.trivial_tokenize_indic(sentence)\n",
        "\n",
        "    # Count the occurrences of each word in the sentence\n",
        "    word_counts = Counter(tokens)\n",
        "\n",
        "    # Create a feature vector based on the number of occurrences of the top 100 stopwords\n",
        "    top_function_vector = []\n",
        "    for stop_word in top_function_words:\n",
        "        count = word_counts.get(stop_word, 0)\n",
        "        top_function_vector.append(count)         \n",
        "            \n",
        "    # count the occurrences of each punctuation mark\n",
        "    punctuation_marks = [',',  '॥', '.', '!', '?', ':', ';', '।', '(', ')', '[', ']', '{', '}', 'ऽ', '—', '-', '‘', '’', '“', '”']\n",
        "\n",
        "    punctuation_counts = []\n",
        "    for mark in punctuation_marks:\n",
        "        count = sentence.count(mark)\n",
        "        punctuation_counts.append(count)\n",
        "\n",
        "    #feature_vector = punctuation_counts + top_function_vector\n",
        "    \n",
        "    #return feature_vector\n",
        "    \n",
        "    # create scaler objects for each feature type\n",
        "    punc_scaler = StandardScaler()\n",
        "    top_func_scaler = StandardScaler()\n",
        "    \n",
        "\n",
        "   # convert to NumPy arrays and reshape to have one column\n",
        "    punctuation_counts_reshaped = np.array(punctuation_counts).reshape(-1, 1)\n",
        "    top_function_vector_reshaped = np.array(top_function_vector).reshape(-1, 1)\n",
        "    \n",
        "    \n",
        "    # fit and transform each feature type separately\n",
        "    punc_counts_scaled = punc_scaler.fit_transform(punctuation_counts_reshaped)\n",
        "    top_func_scaled = top_func_scaler.fit_transform(top_function_vector_reshaped)\n",
        "    \n",
        "    \n",
        "    # concatenate the scaled features\n",
        "    feature_vector = np.concatenate((punc_counts_scaled, top_func_scaled), axis=0)\n",
        "    \n",
        "    # convert back to a 1D array and return\n",
        "    return feature_vector.flatten()\n",
        "\n",
        "# create feature vectors for each sentence\n",
        "df['features'] = df['chunks'].apply(create_feature_vector)\n",
        "test_df['features'] = test_df['chunks'].apply(create_feature_vector)"
      ]
    },
    {
      "cell_type": "code",
      "execution_count": null,
      "metadata": {
        "colab": {
          "base_uri": "https://localhost:8080/"
        },
        "id": "ROmiY3AMR95r",
        "outputId": "a23de38a-af0e-460a-abf2-0a482fb9d2a8"
      },
      "outputs": [
        {
          "output_type": "stream",
          "name": "stdout",
          "text": [
            "SVM accuracy: 0.6232123212321232\n",
            "SVM F1-score: 0.6286320269784808\n",
            "SVM Precision: 0.6512310328178231\n",
            "SVM Recall: 0.6232123212321232\n"
          ]
        }
      ],
      "source": [
        "X_train = np.array(df['features'].tolist())\n",
        "X_test = np.array(test_df['features'].tolist())\n",
        "\n",
        "y_train = df['Author_name']\n",
        "y_test = test_df['Author_name']\n",
        "\n",
        "le = LabelEncoder()\n",
        "y_train_encoded = le.fit_transform(y_train)\n",
        "\n",
        "le = LabelEncoder()\n",
        "y_test_encoded = le.fit_transform(y_test)\n",
        "\n",
        "# create and train the SVM model\n",
        "svm = SVC(kernel='linear')\n",
        "svm.fit(X_train, y_train_encoded)\n",
        "\n",
        "# Make predictions on the test set and calculate evaluation metrics\n",
        "y_pred = svm.predict(X_test)\n",
        "accuracy = accuracy_score(y_test_encoded, y_pred)\n",
        "f1 = f1_score(y_test_encoded, y_pred, average='weighted')\n",
        "precision = precision_score(y_test_encoded, y_pred, average='weighted')\n",
        "recall = recall_score(y_test_encoded, y_pred, average='weighted')\n",
        "\n",
        "# Print evaluation metrics\n",
        "print(\"SVM accuracy:\", accuracy)\n",
        "print(\"SVM F1-score:\", f1)\n",
        "print(\"SVM Precision:\", precision)\n",
        "print(\"SVM Recall:\", recall)"
      ]
    },
    {
      "cell_type": "code",
      "execution_count": null,
      "metadata": {
        "id": "R5DtP4sfR98o",
        "colab": {
          "base_uri": "https://localhost:8080/"
        },
        "outputId": "a9f404d6-ebb8-4aca-906f-5ef0c1003789"
      },
      "outputs": [
        {
          "output_type": "stream",
          "name": "stdout",
          "text": [
            "              precision    recall  f1-score   support\n",
            "\n",
            "           0       0.80      0.87      0.84       526\n",
            "           1       0.73      0.55      0.62       682\n",
            "           2       0.65      0.58      0.61       235\n",
            "           3       0.26      0.29      0.27       185\n",
            "           4       0.35      0.58      0.44       190\n",
            "\n",
            "    accuracy                           0.62      1818\n",
            "   macro avg       0.56      0.57      0.56      1818\n",
            "weighted avg       0.65      0.62      0.63      1818\n",
            "\n"
          ]
        }
      ],
      "source": [
        "print(classification_report(y_test_encoded, y_pred))"
      ]
    },
    {
      "cell_type": "code",
      "source": [
        "SVM accuracy: 0.6232123212321232\n",
        "SVM F1-score: 0.6286320269784808\n",
        "SVM Precision: 0.6512310328178231\n",
        "SVM Recall: 0.6232123212321232\n",
        "\n",
        "              precision    recall  f1-score   support\n",
        "\n",
        "           0       0.80      0.87      0.84       526\n",
        "           1       0.73      0.55      0.62       682\n",
        "           2       0.65      0.58      0.61       235\n",
        "           3       0.26      0.29      0.27       185\n",
        "           4       0.35      0.58      0.44       190\n",
        "\n",
        "    accuracy                           0.62      1818\n",
        "   macro avg       0.56      0.57      0.56      1818\n",
        "weighted avg       0.65      0.62      0.63      1818"
      ],
      "metadata": {
        "id": "FR2wao7UepUl"
      },
      "execution_count": null,
      "outputs": []
    }
  ],
  "metadata": {
    "colab": {
      "provenance": [],
      "authorship_tag": "ABX9TyMefJ7ON2q4JVpzSuGucGbl",
      "include_colab_link": true
    },
    "kernelspec": {
      "display_name": "Python 3",
      "name": "python3"
    },
    "language_info": {
      "name": "python"
    }
  },
  "nbformat": 4,
  "nbformat_minor": 0
}