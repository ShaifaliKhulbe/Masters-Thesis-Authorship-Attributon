{
 "cells": [
  {
   "cell_type": "code",
   "execution_count": 2,
   "id": "58309d22",
   "metadata": {},
   "outputs": [
    {
     "name": "stderr",
     "output_type": "stream",
     "text": [
      "[nltk_data] Downloading package punkt to\n",
      "[nltk_data]     C:\\Users\\Shaifali\\AppData\\Roaming\\nltk_data...\n",
      "[nltk_data]   Package punkt is already up-to-date!\n"
     ]
    }
   ],
   "source": [
    "import re\n",
    "import json\n",
    "import nltk\n",
    "import os, sys\n",
    "import indicnlp\n",
    "import pandas as pd\n",
    "nltk.download('punkt')\n",
    "from indicnlp.tokenize import sentence_tokenize\n",
    "from indicnlp.tokenize import indic_tokenize"
   ]
  },
  {
   "cell_type": "code",
   "execution_count": 60,
   "id": "f6e26529",
   "metadata": {},
   "outputs": [],
   "source": [
    "# Open a file\n",
    "\n",
    "#for train csv\n",
    "#path = \"C:/Users/Shaifali/OneDrive - University of Wolverhampton/Disseration Materials/English Data\"\n",
    "#for test csv\n",
    "path = \"C:/Users/Shaifali/OneDrive - University of Wolverhampton/Disseration Materials/Hindi Data\"\n",
    "dirs = os.listdir(path)"
   ]
  },
  {
   "cell_type": "code",
   "execution_count": 61,
   "id": "6beb7456",
   "metadata": {},
   "outputs": [
    {
     "name": "stdout",
     "output_type": "stream",
     "text": [
      "देवकीनंदन खत्री File_1.txt\n",
      "देवकीनंदन खत्री File_2.txt\n",
      "देवकीनंदन खत्री File_3.txt\n",
      "प्रेमचंद File_1.txt\n",
      "प्रेमचंद File_2.txt\n",
      "प्रेमचंद File_3.txt\n",
      "विभूति नारायण राय File_1.txt\n",
      "विभूति नारायण राय File_2.txt\n",
      "विभूति नारायण राय File_3.txt\n",
      "शरतचंद्र चट्टोपाध्याय File_1.txt\n",
      "शरतचंद्र चट्टोपाध्याय File_2.txt\n",
      "शरतचंद्र चट्टोपाध्याय File_3.txt\n",
      "सूर्यकांत त्रिपाठी निराला File_1.txt\n",
      "सूर्यकांत त्रिपाठी निराला File_2.txt\n",
      "सूर्यकांत त्रिपाठी निराला File_3.txt\n"
     ]
    }
   ],
   "source": [
    "for file in dirs: \n",
    "    file_name = \"file\"\n",
    "    print(file)"
   ]
  },
  {
   "cell_type": "code",
   "execution_count": 62,
   "id": "2be296a0",
   "metadata": {},
   "outputs": [],
   "source": [
    "def clean_text(file_content):\n",
    "    file_clean = re.sub(\"\\n+\", \" \", file_content) #Remove newline characters\n",
    "    file_clean = re.sub(\"\\s+\", \" \", file_content) #Remove extra whitespaces\n",
    "    #Tokenize the file into sentences\n",
    "    \n",
    "    #For Hindi texts\n",
    "    sentence_tokens = sentence_tokenize.sentence_split(file_clean, lang='hi', delim_pat='auto') \n",
    "    sentence_tokens = [sent for sent in sentence_tokens if len(indic_tokenize.trivial_tokenize_indic(sent)) > 9]\n",
    "    \n",
    "    #For French and English texts\n",
    "    #sentence_tokens = nltk.sent_tokenize(file_clean)\n",
    "    #sentence_tokens = [sent for sent in sentence_tokens if len(nltk.word_tokenize(sent)) > 9] \n",
    "    return sentence_tokens"
   ]
  },
  {
   "cell_type": "code",
   "execution_count": 63,
   "id": "1ede1ae6",
   "metadata": {},
   "outputs": [],
   "source": [
    "def file_metadata(file_name):\n",
    "    file_name = file_name[:-4]\n",
    "    author_name = file_name[:-7] #for train \n",
    "    #author_name = file_name[:-5] #for test \n",
    "    \n",
    "    \n",
    "    file_number = file_name[-6:] #for train ONLY\n",
    "    return author_name, file_number #for train\n",
    "    #return author_name #for test"
   ]
  },
  {
   "cell_type": "code",
   "execution_count": 64,
   "id": "b347254a",
   "metadata": {},
   "outputs": [],
   "source": [
    "def create_df(author_name, file_number, sentence_tokens): #for train\n",
    "#def create_df(author_name, sentence_tokens): #for test  \n",
    "    #for train data\n",
    "    dataframe_list = [[author_name]*len(sentence_tokens), [file_number]*len(sentence_tokens), sentence_tokens]\n",
    "    df = pd.DataFrame (dataframe_list).transpose()\n",
    "    df.columns = ['Author_name', 'File_Number', 'Sentences']\n",
    "        \n",
    "    #for test data\n",
    "    #dataframe_list = [[author_name]*len(sentence_tokens), sentence_tokens]\n",
    "    #df = pd.DataFrame (dataframe_list).transpose()\n",
    "    #df.columns = ['Author_name', 'Sentences']\n",
    "    return (df)"
   ]
  },
  {
   "cell_type": "code",
   "execution_count": null,
   "id": "9e1a47a9",
   "metadata": {},
   "outputs": [],
   "source": [
    "\n"
   ]
  },
  {
   "cell_type": "code",
   "execution_count": 66,
   "id": "da12066d",
   "metadata": {},
   "outputs": [],
   "source": [
    "# create an Empty DataFrame object\n",
    "df = pd.DataFrame()\n",
    "# This would print all the files and directories\n",
    "for file in dirs: \n",
    "    file_name = file\n",
    "    #for train data\n",
    "    file_content = open(\"C:/Users/Shaifali/OneDrive - University of Wolverhampton/Disseration Materials/Hindi Data/\" + file_name, \"r\", encoding=\"utf-8\").read()\n",
    "    #for test data\n",
    "    #file_content = open(\"C:/Users/Shaifali/OneDrive - University of Wolverhampton/Disseration Materials/Test Data/French Test Data/\" + file_name, \"r\", encoding=\"utf-8\").read()\n",
    "    #author_name= file_metadata(file_name) #test\n",
    "    author_name, file_number= file_metadata(file_name)#train\n",
    "    sentence_tokens = clean_text(file_content)\n",
    "    \n",
    "    file_df = create_df(author_name, file_number, sentence_tokens) \n",
    "    df = pd.concat([df, file_df], axis=0)"
   ]
  },
  {
   "cell_type": "code",
   "execution_count": 67,
   "id": "1baeddbc",
   "metadata": {},
   "outputs": [],
   "source": [
    "df.to_csv(\"Hindi_data.csv\")"
   ]
  },
  {
   "cell_type": "code",
   "execution_count": 68,
   "id": "879e3e8c",
   "metadata": {
    "scrolled": true
   },
   "outputs": [
    {
     "data": {
      "text/html": [
       "<div>\n",
       "<style scoped>\n",
       "    .dataframe tbody tr th:only-of-type {\n",
       "        vertical-align: middle;\n",
       "    }\n",
       "\n",
       "    .dataframe tbody tr th {\n",
       "        vertical-align: top;\n",
       "    }\n",
       "\n",
       "    .dataframe thead th {\n",
       "        text-align: right;\n",
       "    }\n",
       "</style>\n",
       "<table border=\"1\" class=\"dataframe\">\n",
       "  <thead>\n",
       "    <tr style=\"text-align: right;\">\n",
       "      <th></th>\n",
       "      <th>Author_name</th>\n",
       "      <th>File_Number</th>\n",
       "      <th>Sentences</th>\n",
       "    </tr>\n",
       "  </thead>\n",
       "  <tbody>\n",
       "    <tr>\n",
       "      <th>0</th>\n",
       "      <td>देवकीनंदन खत्री</td>\n",
       "      <td>File_1</td>\n",
       "      <td>बयान – 1 शाम का वक्त है, कुछ-कुछ सूरज दिखाई दे...</td>\n",
       "    </tr>\n",
       "    <tr>\n",
       "      <th>1</th>\n",
       "      <td>देवकीनंदन खत्री</td>\n",
       "      <td>File_1</td>\n",
       "      <td>वीरेंद्रसिंह की उम्र इक्कीस या बाईस वर्ष की होगी।</td>\n",
       "    </tr>\n",
       "    <tr>\n",
       "      <th>2</th>\n",
       "      <td>देवकीनंदन खत्री</td>\n",
       "      <td>File_1</td>\n",
       "      <td>यह नौगढ़ के राजा सुरेंद्रसिंह का इकलौता लड़का है।</td>\n",
       "    </tr>\n",
       "    <tr>\n",
       "      <th>3</th>\n",
       "      <td>देवकीनंदन खत्री</td>\n",
       "      <td>File_1</td>\n",
       "      <td>तेजसिंह राजा सुरेंद्रसिंह के दीवान जीतसिंह का ...</td>\n",
       "    </tr>\n",
       "    <tr>\n",
       "      <th>4</th>\n",
       "      <td>देवकीनंदन खत्री</td>\n",
       "      <td>File_1</td>\n",
       "      <td>इन दोनों के सामने एक घोड़ा कसा-कसाया दुरुस्त प...</td>\n",
       "    </tr>\n",
       "    <tr>\n",
       "      <th>...</th>\n",
       "      <td>...</td>\n",
       "      <td>...</td>\n",
       "      <td>...</td>\n",
       "    </tr>\n",
       "    <tr>\n",
       "      <th>2398</th>\n",
       "      <td>सूर्यकांत त्रिपाठी निराला</td>\n",
       "      <td>File_3</td>\n",
       "      <td>किले के यौवन-काल में शहर की बडबड़ी आबादी थी।</td>\n",
       "    </tr>\n",
       "    <tr>\n",
       "      <th>2399</th>\n",
       "      <td>सूर्यकांत त्रिपाठी निराला</td>\n",
       "      <td>File_3</td>\n",
       "      <td>गंगा के किनारे होने की वजह से व्‍यवसाय का भी ब...</td>\n",
       "    </tr>\n",
       "    <tr>\n",
       "      <th>2400</th>\n",
       "      <td>सूर्यकांत त्रिपाठी निराला</td>\n",
       "      <td>File_3</td>\n",
       "      <td>पहले रेल तथा अच्‍छे मार्ग न होने से भारत का अध...</td>\n",
       "    </tr>\n",
       "    <tr>\n",
       "      <th>2401</th>\n",
       "      <td>सूर्यकांत त्रिपाठी निराला</td>\n",
       "      <td>File_3</td>\n",
       "      <td>प्राचीन उक्ति के अनुसार यह स्‍थान दालिभ्‍य-क्ष...</td>\n",
       "    </tr>\n",
       "    <tr>\n",
       "      <th>2402</th>\n",
       "      <td>सूर्यकांत त्रिपाठी निराला</td>\n",
       "      <td>File_3</td>\n",
       "      <td>बाद को दालिभ्‍य का अपभ्रंश शायद दलमऊ हो गया, फ...</td>\n",
       "    </tr>\n",
       "  </tbody>\n",
       "</table>\n",
       "<p>46875 rows × 3 columns</p>\n",
       "</div>"
      ],
      "text/plain": [
       "                    Author_name File_Number  \\\n",
       "0               देवकीनंदन खत्री      File_1   \n",
       "1               देवकीनंदन खत्री      File_1   \n",
       "2               देवकीनंदन खत्री      File_1   \n",
       "3               देवकीनंदन खत्री      File_1   \n",
       "4               देवकीनंदन खत्री      File_1   \n",
       "...                         ...         ...   \n",
       "2398  सूर्यकांत त्रिपाठी निराला      File_3   \n",
       "2399  सूर्यकांत त्रिपाठी निराला      File_3   \n",
       "2400  सूर्यकांत त्रिपाठी निराला      File_3   \n",
       "2401  सूर्यकांत त्रिपाठी निराला      File_3   \n",
       "2402  सूर्यकांत त्रिपाठी निराला      File_3   \n",
       "\n",
       "                                              Sentences  \n",
       "0     बयान – 1 शाम का वक्त है, कुछ-कुछ सूरज दिखाई दे...  \n",
       "1     वीरेंद्रसिंह की उम्र इक्कीस या बाईस वर्ष की होगी।  \n",
       "2     यह नौगढ़ के राजा सुरेंद्रसिंह का इकलौता लड़का है।  \n",
       "3     तेजसिंह राजा सुरेंद्रसिंह के दीवान जीतसिंह का ...  \n",
       "4     इन दोनों के सामने एक घोड़ा कसा-कसाया दुरुस्त प...  \n",
       "...                                                 ...  \n",
       "2398       किले के यौवन-काल में शहर की बडबड़ी आबादी थी।  \n",
       "2399  गंगा के किनारे होने की वजह से व्‍यवसाय का भी ब...  \n",
       "2400  पहले रेल तथा अच्‍छे मार्ग न होने से भारत का अध...  \n",
       "2401  प्राचीन उक्ति के अनुसार यह स्‍थान दालिभ्‍य-क्ष...  \n",
       "2402  बाद को दालिभ्‍य का अपभ्रंश शायद दलमऊ हो गया, फ...  \n",
       "\n",
       "[46875 rows x 3 columns]"
      ]
     },
     "execution_count": 68,
     "metadata": {},
     "output_type": "execute_result"
    }
   ],
   "source": [
    "df"
   ]
  },
  {
   "cell_type": "code",
   "execution_count": 26,
   "id": "792dae93",
   "metadata": {},
   "outputs": [],
   "source": [
    "#Distribution"
   ]
  },
  {
   "cell_type": "code",
   "execution_count": 70,
   "id": "ae70fa37",
   "metadata": {},
   "outputs": [
    {
     "name": "stdout",
     "output_type": "stream",
     "text": [
      "                 Author_name  sentence_count\n",
      "0            देवकीनंदन खत्री           13652\n",
      "1                   प्रेमचंद           11915\n",
      "2          विभूति नारायण राय            8136\n",
      "3      शरतचंद्र चट्टोपाध्याय            7252\n",
      "4  सूर्यकांत त्रिपाठी निराला            5920\n"
     ]
    }
   ],
   "source": [
    "import pandas as pd\n",
    "\n",
    "# read in the CSV file as a pandas dataframe\n",
    "df = pd.read_csv(r'C:/Users/Shaifali/OneDrive - University of Wolverhampton/Disseration Materials/Hindi_data.csv')\n",
    "\n",
    "# group the dataframe by author name and file number, and count the number of sentences\n",
    "counts = df.groupby(['Author_name']).size().reset_index(name='sentence_count')\n",
    "\n",
    "# print the counts for each author and file\n",
    "print(counts)"
   ]
  },
  {
   "cell_type": "code",
   "execution_count": 26,
   "id": "10c70ac5",
   "metadata": {},
   "outputs": [
    {
     "name": "stdout",
     "output_type": "stream",
     "text": [
      "         Author_name  sentence_count\n",
      "0   Anthony_Trollope           35900\n",
      "1    Charles_Dickens           30322\n",
      "2  Elizabeth_Gaskell           30811\n",
      "3    George_Meredith           50132\n",
      "4         Mark_Twain           23233\n"
     ]
    }
   ],
   "source": [
    "# group the dataframe by author name, and count the number of sentences\n",
    "counts = df.groupby(['Author_name']).size().reset_index(name='sentence_count')\n",
    "\n",
    "# print the counts for each author\n",
    "print(counts)"
   ]
  },
  {
   "cell_type": "code",
   "execution_count": null,
   "id": "28b81c42",
   "metadata": {},
   "outputs": [],
   "source": [
    "#Distribution after adding 4 texts each for Elizabeth Gaskell, George Meredith, and Mark Twain:\n",
    "        Author_name  sentence_count\n",
    "0   Anthony_Trollope           35900\n",
    "1    Charles_Dickens           30322\n",
    "2  Elizabeth_Gaskell           17753\n",
    "3    George_Meredith           50132\n",
    "4         Mark_Twain           18157\n",
    "\n",
    "# Distribution after adding 2 texts more each for Elizabeth Gaskell and Mark Twain:\n",
    "\n",
    "         Author_name  sentence_count\n",
    "0   Anthony_Trollope           35900\n",
    "1    Charles_Dickens           30322\n",
    "2  Elizabeth_Gaskell           30811\n",
    "3    George_Meredith           50132\n",
    "4         Mark_Twain           23233\n"
   ]
  },
  {
   "cell_type": "code",
   "execution_count": null,
   "id": "d18c8072",
   "metadata": {},
   "outputs": [],
   "source": [
    "Hindi Test\n",
    "\n",
    "            Author_name  sentence_count\n",
    "0        देवकीनंदन खत्री            4059\n",
    "1               प्रेमचंद            9187\n",
    "2      विभूति नारायण राय            2505\n",
    "3  शरतचंद्र चट्टोपाध्याय            1924\n",
    "\n",
    "\n",
    "Hindi Train\n",
    "\n",
    "             Author_name  sentence_count\n",
    "0            देवकीनंदन खत्री           13652\n",
    "1                   प्रेमचंद           11915\n",
    "2          विभूति नारायण राय            8136\n",
    "3      शरतचंद्र चट्टोपाध्याय            7252\n",
    "4  सूर्यकांत त्रिपाठी निराला            5920"
   ]
  },
  {
   "cell_type": "code",
   "execution_count": null,
   "id": "035b1d34",
   "metadata": {},
   "outputs": [],
   "source": [
    "French Test\n",
    "\n",
    "         Author_name  sentence_count\n",
    "0   Charles_Monselet            1973\n",
    "1  Guy_de_maupassant            1919\n",
    "2          Paul_Adam            7645\n",
    "3    Prosper_Merimee            3599\n",
    "4        Victor_Hugo            9459\n",
    "\n",
    "\n",
    "French Train \n",
    "\n",
    "         Author_name  sentence_count\n",
    "0   Charles_Monselet            4654\n",
    "1  Guy_de_maupassant            3975\n",
    "2          Paul_Adam            8273\n",
    "3    Prosper_Merimee            4180\n",
    "4        Victor_Hugo           11893"
   ]
  },
  {
   "cell_type": "code",
   "execution_count": null,
   "id": "edcbbb6e",
   "metadata": {},
   "outputs": [],
   "source": []
  }
 ],
 "metadata": {
  "kernelspec": {
   "display_name": "Python 3 (ipykernel)",
   "language": "python",
   "name": "python3"
  },
  "language_info": {
   "codemirror_mode": {
    "name": "ipython",
    "version": 3
   },
   "file_extension": ".py",
   "mimetype": "text/x-python",
   "name": "python",
   "nbconvert_exporter": "python",
   "pygments_lexer": "ipython3",
   "version": "3.9.13"
  }
 },
 "nbformat": 4,
 "nbformat_minor": 5
}
