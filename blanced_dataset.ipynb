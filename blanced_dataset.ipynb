{
 "cells": [
  {
   "cell_type": "code",
   "execution_count": 8,
   "id": "38d7d904",
   "metadata": {},
   "outputs": [
    {
     "name": "stderr",
     "output_type": "stream",
     "text": [
      "C:\\Users\\Shaifali\\AppData\\Local\\Temp\\ipykernel_25008\\3318577524.py:26: FutureWarning: The frame.append method is deprecated and will be removed from pandas in a future version. Use pandas.concat instead.\n",
      "  balanced_df = balanced_df.append(df.loc[indices, ['Author_name', 'Sentences']])\n",
      "C:\\Users\\Shaifali\\AppData\\Local\\Temp\\ipykernel_25008\\3318577524.py:26: FutureWarning: The frame.append method is deprecated and will be removed from pandas in a future version. Use pandas.concat instead.\n",
      "  balanced_df = balanced_df.append(df.loc[indices, ['Author_name', 'Sentences']])\n",
      "C:\\Users\\Shaifali\\AppData\\Local\\Temp\\ipykernel_25008\\3318577524.py:26: FutureWarning: The frame.append method is deprecated and will be removed from pandas in a future version. Use pandas.concat instead.\n",
      "  balanced_df = balanced_df.append(df.loc[indices, ['Author_name', 'Sentences']])\n",
      "C:\\Users\\Shaifali\\AppData\\Local\\Temp\\ipykernel_25008\\3318577524.py:26: FutureWarning: The frame.append method is deprecated and will be removed from pandas in a future version. Use pandas.concat instead.\n",
      "  balanced_df = balanced_df.append(df.loc[indices, ['Author_name', 'Sentences']])\n",
      "C:\\Users\\Shaifali\\AppData\\Local\\Temp\\ipykernel_25008\\3318577524.py:26: FutureWarning: The frame.append method is deprecated and will be removed from pandas in a future version. Use pandas.concat instead.\n",
      "  balanced_df = balanced_df.append(df.loc[indices, ['Author_name', 'Sentences']])\n"
     ]
    }
   ],
   "source": [
    "import pandas as pd\n",
    "import numpy as np\n",
    "\n",
    "# read in the CSV file as a pandas dataframe\n",
    "df = pd.read_csv(r'C:\\Users\\Shaifali\\OneDrive - University of Wolverhampton\\Disseration Materials\\Hindi_data.csv')\n",
    "\n",
    "# Group the data by author name and count the number of sentences for each author\n",
    "author_counts = df.groupby('Author_name')['Sentences'].count()\n",
    "\n",
    "# Define the maximum number of sentences per author\n",
    "max_sentences = 5920\n",
    "\n",
    "# Create a new dataframe to store the balanced data\n",
    "balanced_df = pd.DataFrame(columns=['Author_name', 'Sentences'])\n",
    "\n",
    "# Loop over each author\n",
    "for author in author_counts.index:\n",
    "    # Get the indices of all sentences for this author\n",
    "    indices = df.index[df['Author_name'] == author].tolist()\n",
    "    \n",
    "    # If the author has more than max_sentences sentences, randomly select max_sentences sentences\n",
    "    if author_counts[author] > max_sentences:\n",
    "        indices = np.random.choice(indices, max_sentences, replace=False)\n",
    "    \n",
    "    # Add the selected sentences to the new dataframe\n",
    "    balanced_df = balanced_df.append(df.loc[indices, ['Author_name', 'Sentences']])\n",
    "    \n",
    "# Save the balanced data to a new CSV file\n",
    "balanced_df.to_csv('Hindi_balanced_data.csv', index=False)"
   ]
  },
  {
   "cell_type": "code",
   "execution_count": 9,
   "id": "9351e2bc",
   "metadata": {},
   "outputs": [],
   "source": [
    "import pandas as pd\n",
    "\n",
    "# read in the CSV file as a pandas dataframe\n",
    "balanced_df = pd.read_csv(r'Hindi_balanced_data.csv')\n"
   ]
  },
  {
   "cell_type": "code",
   "execution_count": 10,
   "id": "012846e0",
   "metadata": {},
   "outputs": [
    {
     "name": "stdout",
     "output_type": "stream",
     "text": [
      "कमला ने किवाड़ खटखटाया है, दरवाजा खोलना चाहिए इसका खयाल तो जाता रहा और इधर-उधर किशोरी को ढूंढ़ने लगी मगर इसे ढूंढ़ने में उसने ज्यादा देर न लगाई, दो ही चार दफे दालान और कोठरियों में घूमकर वह लौटी और सदर दरवाजा खोलकर कमला को मकान के अंदर कर लिया।\n"
     ]
    }
   ],
   "source": [
    "print(balanced_df.iloc[9][1])"
   ]
  },
  {
   "cell_type": "code",
   "execution_count": 11,
   "id": "5d4bdabc",
   "metadata": {},
   "outputs": [
    {
     "name": "stdout",
     "output_type": "stream",
     "text": [
      "                     Author_name  \\\n",
      "0                देवकीनंदन खत्री   \n",
      "1                देवकीनंदन खत्री   \n",
      "2                देवकीनंदन खत्री   \n",
      "3                देवकीनंदन खत्री   \n",
      "4                देवकीनंदन खत्री   \n",
      "...                          ...   \n",
      "29595  सूर्यकांत त्रिपाठी निराला   \n",
      "29596  सूर्यकांत त्रिपाठी निराला   \n",
      "29597  सूर्यकांत त्रिपाठी निराला   \n",
      "29598  सूर्यकांत त्रिपाठी निराला   \n",
      "29599  सूर्यकांत त्रिपाठी निराला   \n",
      "\n",
      "                                               Sentences  \n",
      "0      '' आनंद - चुनार यहां से कितनी दूर और किस तरफ ह...  \n",
      "1      छोटे से हाथ भर के चबूतरे पर एक साँप चक्कर मारे...  \n",
      "2      भूतनाथ इतना डरपोक और कमजोर भी न था कि नागर का ...  \n",
      "3      तेजसिंह - आप और भी शह दीजिए जिसमें यदि और कुछ ...  \n",
      "4      ’ सिद्धनाथ की इतनी बात सुन कर सभी ने ‘हूँ-हाँ’...  \n",
      "...                                                  ...  \n",
      "29595       किले के यौवन-काल में शहर की बडबड़ी आबादी थी।  \n",
      "29596  गंगा के किनारे होने की वजह से व्‍यवसाय का भी ब...  \n",
      "29597  पहले रेल तथा अच्‍छे मार्ग न होने से भारत का अध...  \n",
      "29598  प्राचीन उक्ति के अनुसार यह स्‍थान दालिभ्‍य-क्ष...  \n",
      "29599  बाद को दालिभ्‍य का अपभ्रंश शायद दलमऊ हो गया, फ...  \n",
      "\n",
      "[29600 rows x 2 columns]\n"
     ]
    }
   ],
   "source": [
    "print(balanced_df)"
   ]
  },
  {
   "cell_type": "code",
   "execution_count": null,
   "id": "8a1a784d",
   "metadata": {},
   "outputs": [],
   "source": []
  }
 ],
 "metadata": {
  "kernelspec": {
   "display_name": "Python 3 (ipykernel)",
   "language": "python",
   "name": "python3"
  },
  "language_info": {
   "codemirror_mode": {
    "name": "ipython",
    "version": 3
   },
   "file_extension": ".py",
   "mimetype": "text/x-python",
   "name": "python",
   "nbconvert_exporter": "python",
   "pygments_lexer": "ipython3",
   "version": "3.9.13"
  }
 },
 "nbformat": 4,
 "nbformat_minor": 5
}
