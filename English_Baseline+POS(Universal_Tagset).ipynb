{
  "nbformat": 4,
  "nbformat_minor": 0,
  "metadata": {
    "colab": {
      "provenance": [],
      "authorship_tag": "ABX9TyO9NxH+b1nHmFbLAlwEQhkY",
      "include_colab_link": true
    },
    "kernelspec": {
      "name": "python3",
      "display_name": "Python 3"
    },
    "language_info": {
      "name": "python"
    }
  },
  "cells": [
    {
      "cell_type": "markdown",
      "metadata": {
        "id": "view-in-github",
        "colab_type": "text"
      },
      "source": [
        "<a href=\"https://colab.research.google.com/github/ShaifaliKhulbe/Masters-Thesis-Authorship-Attributon/blob/main/English_Baseline%2BPOS(Universal_Tagset).ipynb\" target=\"_parent\"><img src=\"https://colab.research.google.com/assets/colab-badge.svg\" alt=\"Open In Colab\"/></a>"
      ]
    },
    {
      "cell_type": "code",
      "execution_count": null,
      "metadata": {
        "id": "pjwLdGubJpca"
      },
      "outputs": [],
      "source": [
        "import pandas as pd\n",
        "import numpy as np\n",
        "import nltk\n",
        "import collections\n",
        "from nltk import word_tokenize\n",
        "from nltk.util import ngrams\n",
        "from sklearn.feature_extraction.text import CountVectorizer\n",
        "from sklearn.model_selection import train_test_split, cross_val_score\n",
        "from sklearn.svm import SVC\n",
        "from collections import Counter\n",
        "from sklearn.metrics import accuracy_score, f1_score, precision_score, recall_score\n",
        "from sklearn.metrics import classification_report\n",
        "from sklearn.preprocessing import LabelEncoder\n",
        "from sklearn.preprocessing import StandardScaler\n",
        "nltk.download('punkt')\n",
        "nltk.download('averaged_perceptron_tagger')\n",
        "nltk.download('universal_tagset')"
      ]
    },
    {
      "cell_type": "code",
      "source": [
        "from nltk.corpus import stopwords\n",
        "nltk.download('stopwords')"
      ],
      "metadata": {
        "id": "RynHsDmXKfUa"
      },
      "execution_count": null,
      "outputs": []
    },
    {
      "cell_type": "code",
      "source": [
        "import nltk\n",
        "from itertools import chain\n",
        "from nltk.util import ngrams\n",
        "from collections import Counter\n",
        "\n",
        "# load data\n",
        "df = pd.read_csv('200_chunks_english.csv')\n",
        "test_df = pd.read_csv('Test_200_chunks_english.csv')\n",
        "\n",
        "#define the dictionary to store all top ngrams for each author\n",
        "top_ngrams = {}\n",
        "\n",
        "#define the number of top pos ngrams to calculate\n",
        "num = 70\n",
        "\n",
        "# calculate the pos ngrams for each author and store them in pos_ngrams_by_author\n",
        "for author in df['Author_name'].unique():\n",
        "    author_data = df[df['Author_name'] == author]\n",
        "    sentences = list(author_data['chunks'])\n",
        "\n",
        "    all_pos_1grams = []\n",
        "    all_pos_2grams = []\n",
        "    all_pos_3grams = []\n",
        "\n",
        "    for sentence in sentences:\n",
        "\n",
        "        # tokenize the sentence\n",
        "        tokens = nltk.word_tokenize(sentence)\n",
        "        # tag the tokens with POS tags\n",
        "        pos_tags = nltk.pos_tag(tokens, tagset = 'universal')\n",
        "\n",
        "        # create POS n-grams of size n\n",
        "        pos_unigram_list = ngrams([tag for _, tag in pos_tags], 1)\n",
        "        pos_bigram_list = ngrams([tag for _, tag in pos_tags], 2)\n",
        "        pos_trigram_list = ngrams([tag for _, tag in pos_tags], 3)\n",
        "\n",
        "        # add the POS n-grams to the list\n",
        "        all_pos_1grams.extend(pos_unigram_list)\n",
        "        all_pos_2grams.extend(pos_bigram_list)\n",
        "        all_pos_3grams.extend(pos_trigram_list)\n",
        "      \n",
        "  \n",
        "    # count the frequency of each POS n-gram\n",
        "    pos_1gram_counts = nltk.FreqDist(all_pos_1grams)\n",
        "    pos_2gram_counts = nltk.FreqDist(all_pos_2grams)\n",
        "    pos_3gram_counts = nltk.FreqDist(all_pos_3grams)\n",
        "    \n",
        "    # return the top num POS n-grams\n",
        "\n",
        "    top_unigrams= [ngram for ngram, count in pos_1gram_counts.most_common(num)]\n",
        "\n",
        "    top_bigrams= [ngram for ngram, count in pos_2gram_counts.most_common(num)]\n",
        "\n",
        "    top_trigrams= [ngram for ngram, count in pos_3gram_counts.most_common(num)]\n",
        "\n",
        "    top_ngrams[author] = top_trigrams + top_bigrams + top_unigrams\n",
        "\n",
        "#print(top_ngrams)\n",
        "\n",
        "# Find the name of the first key in the dictionary\n",
        "first_key = list(top_ngrams.keys())[0]\n",
        "\n",
        "# Initialize the common_values set using the first key\n",
        "common_ngrams = set(top_ngrams[first_key])\n",
        "\n",
        "for key in top_ngrams:\n",
        "    common_ngrams = common_ngrams.intersection(top_ngrams[key])\n",
        "\n",
        "print(len(common_ngrams))\n",
        "\n",
        "# Create a list of all values from all keys minus the common values\n",
        "all_ngrams = []\n",
        "\n",
        "for key in top_ngrams:\n",
        "    all_ngrams.extend(top_ngrams[key])\n",
        "    \n",
        "print(len(all_ngrams))\n",
        "\n",
        "not_common_ngrams = set(all_ngrams).difference(common_ngrams)\n",
        "not_common_ngrams_list = list(not_common_ngrams)\n",
        "\n",
        "\n",
        "#Finding top 100 most frequent words\n",
        "def find_top_function_words(data, num):\n",
        "    \n",
        "    # tokenize each sentence and create a list of all words\n",
        "    words = []\n",
        "    for sentence in data['chunks']:\n",
        "        tokens = nltk.word_tokenize(sentence.lower())\n",
        "        words.extend(tokens)\n",
        "\n",
        "    # count the frequency of each word in the entire CSV\n",
        "    word_freq = Counter(words)\n",
        "    \n",
        "    # sort the dictionary by frequency in descending order\n",
        "    sorted_word_freq = sorted(word_freq.items(), key=lambda x: x[1], reverse=True)\n",
        "\n",
        "    # extract the 100 most frequent stopwords\n",
        "    \n",
        "    top_stop_words = [word[0] for word in sorted_word_freq if word[0] in nltk.corpus.stopwords.words('english')][:100]\n",
        "\n",
        "    return top_stop_words\n",
        "       \n",
        "#NEW    \n",
        "top_function_words = find_top_function_words(df, 100)\n",
        "\n",
        "# define a function to create the feature vector for a given sentence\n",
        "def create_feature_vector(sentence):\n",
        "    # tokenize the sentence\n",
        "    tokens = nltk.word_tokenize(sentence)\n",
        "    \n",
        "    # tag the tokens with POS tags\n",
        "    pos_tags = nltk.pos_tag(tokens, tagset = 'universal')\n",
        "    \n",
        "    # create bigram, trigram, and four-gram POS sequences\n",
        "    unigram_pos_seqs = ngrams([tag for _, tag in pos_tags], 1)\n",
        "    bigram_pos_seqs = ngrams([tag for _, tag in pos_tags], 2)\n",
        "    trigram_pos_seqs = ngrams([tag for _, tag in pos_tags], 3)\n",
        "    \n",
        "    #print(not_common_ngrams_list)\n",
        "\n",
        "    # concatenate the three n-gram sequences into one\n",
        "    all_ngram_pos = chain(unigram_pos_seqs, bigram_pos_seqs, trigram_pos_seqs)\n",
        "\n",
        "    # create a list to store the counts of each n-gram in the not_common_ngrams_list\n",
        "    pos_counts = []\n",
        "\n",
        "    # concatenate the three n-gram sequences into one\n",
        "    all_ngram_pos = chain(unigram_pos_seqs, bigram_pos_seqs, trigram_pos_seqs)\n",
        "\n",
        "\n",
        "    # Converting all_ngram_pos to a list and printing the first 10 n-grams\n",
        "    all_ngrams_list = list(all_ngram_pos)\n",
        "    #print(all_ngrams_list[:10])\n",
        "\n",
        "    pos_counts = []\n",
        "    \n",
        "    for pos_ngram_list, top_pos_ngrams in zip([all_ngrams_list],\n",
        "                                              [not_common_ngrams_list]):\n",
        "        for pos_ngram in top_pos_ngrams:\n",
        "            count = 0\n",
        "            for top_pos in pos_ngram_list:\n",
        "                if pos_ngram == top_pos:\n",
        "                    count += 1\n",
        "            pos_counts.append(count)\n",
        "\n",
        "    \n",
        "    # Tokenize the sentence into lowercase words\n",
        "    tokens = nltk.word_tokenize(sentence.lower())\n",
        "\n",
        "    # Count the occurrences of each word in the sentence\n",
        "    word_counts = Counter(tokens)\n",
        "\n",
        "    # Create a feature vector based on the number of occurrences of the top 100 stopwords\n",
        "    top_function_vector = []\n",
        "    for stop_word in top_function_words:\n",
        "        count = word_counts.get(stop_word, 0)\n",
        "        top_function_vector.append(count)\n",
        "           \n",
        "    # count the occurrences of each punctuation mark\n",
        "    punctuation_marks = ['.', ',', ';', ':', '?', '!', '«', '»', '-', '–', '—', '(', ')', '[', ']', '{', '}', '/', '\\\\', '...', \"'\", '\"']\n",
        "    \n",
        "    punctuation_counts = []\n",
        "    for mark in punctuation_marks:\n",
        "        count = sentence.count(mark)\n",
        "        punctuation_counts.append(count)\n",
        "\n",
        "    #feature_vector = punctuation_counts + top_function_vector + pos_counts\n",
        "\n",
        "    # create scaler objects for each feature type\n",
        "    punc_scaler = StandardScaler()\n",
        "    top_func_scaler = StandardScaler()\n",
        "    pos_scaler = StandardScaler()\n",
        "\n",
        "   # convert to NumPy arrays and reshape to have one column\n",
        "    punctuation_counts_reshaped = np.array(punctuation_counts).reshape(-1, 1)\n",
        "    top_function_vector_reshaped = np.array(top_function_vector).reshape(-1, 1)\n",
        "    pos_counts_reshaped = np.array(pos_counts).reshape(-1, 1)\n",
        "    \n",
        "    # fit and transform each feature type separately\n",
        "    punc_counts_scaled = punc_scaler.fit_transform(punctuation_counts_reshaped)\n",
        "    top_func_scaled = top_func_scaler.fit_transform(top_function_vector_reshaped)\n",
        "    pos_counts_scaled = pos_scaler.fit_transform(pos_counts_reshaped)\n",
        "    \n",
        "    # concatenate the scaled features\n",
        "    feature_vector = np.concatenate((punc_counts_scaled, top_func_scaled, pos_counts_scaled), axis=0)\n",
        "    \n",
        "    # convert back to a 1D array and return\n",
        "    return feature_vector.flatten()\n",
        "\n",
        "# create feature vectors for each sentence\n",
        "df['features'] = df['chunks'].apply(create_feature_vector)\n",
        "test_df['features'] = test_df['chunks'].apply(create_feature_vector)"
      ],
      "metadata": {
        "colab": {
          "base_uri": "https://localhost:8080/"
        },
        "id": "pOY2BGmYo8oR",
        "outputId": "520fb4b3-f6b9-408b-91cf-9b18e60a6732"
      },
      "execution_count": null,
      "outputs": [
        {
          "output_type": "stream",
          "name": "stdout",
          "text": [
            "120\n",
            "760\n"
          ]
        }
      ]
    },
    {
      "cell_type": "code",
      "source": [
        "len(test_df['features'][150])"
      ],
      "metadata": {
        "colab": {
          "base_uri": "https://localhost:8080/"
        },
        "id": "fT86ZDizKI3X",
        "outputId": "6565cf6a-f538-437d-e2b6-01e6d7df79c0"
      },
      "execution_count": null,
      "outputs": [
        {
          "output_type": "execute_result",
          "data": {
            "text/plain": [
              "193"
            ]
          },
          "metadata": {},
          "execution_count": 14
        }
      ]
    },
    {
      "cell_type": "code",
      "source": [
        "\n",
        "X_train = np.array(df['features'].tolist())\n",
        "X_test = np.array(test_df['features'].tolist())\n",
        "\n",
        "\n",
        "y_train = df['Author_name']\n",
        "y_test = test_df['Author_name']\n",
        "\n",
        "le = LabelEncoder()\n",
        "y_train_encoded = le.fit_transform(y_train)\n",
        "\n",
        "le = LabelEncoder()\n",
        "y_test_encoded = le.fit_transform(y_test)\n",
        "\n",
        "# create and train the SVM model\n",
        "svm = SVC(kernel='linear')\n",
        "svm.fit(X_train, y_train_encoded)\n",
        "\n",
        "# Make predictions on the test set and calculate evaluation metrics\n",
        "y_pred = svm.predict(X_test)\n",
        "accuracy = accuracy_score(y_test_encoded, y_pred)\n",
        "f1 = f1_score(y_test_encoded, y_pred, average='weighted')\n",
        "precision = precision_score(y_test_encoded, y_pred, average='weighted')\n",
        "recall = recall_score(y_test_encoded, y_pred, average='weighted')\n",
        "\n",
        "# Print evaluation metrics\n",
        "print(\"SVM accuracy:\", accuracy)\n",
        "print(\"SVM F1-score:\", f1)\n",
        "print(\"SVM Precision:\", precision)\n",
        "print(\"SVM Recall:\", recall)"
      ],
      "metadata": {
        "colab": {
          "base_uri": "https://localhost:8080/"
        },
        "id": "DggMbl2FKI5p",
        "outputId": "ee6ffbd0-d86d-43c1-eb87-ee8f99a80fe1"
      },
      "execution_count": null,
      "outputs": [
        {
          "output_type": "stream",
          "name": "stdout",
          "text": [
            "SVM accuracy: 0.6674057649667405\n",
            "SVM F1-score: 0.6701079032499816\n",
            "SVM Precision: 0.6980625784496042\n",
            "SVM Recall: 0.6674057649667405\n"
          ]
        }
      ]
    },
    {
      "cell_type": "code",
      "source": [
        "print(classification_report(y_test_encoded, y_pred))"
      ],
      "metadata": {
        "colab": {
          "base_uri": "https://localhost:8080/"
        },
        "id": "VLp1KFYXKI-E",
        "outputId": "94bfdfb3-580a-4398-fa9b-f98221ae415c"
      },
      "execution_count": null,
      "outputs": [
        {
          "output_type": "stream",
          "name": "stdout",
          "text": [
            "              precision    recall  f1-score   support\n",
            "\n",
            "           0       0.75      0.82      0.79      1638\n",
            "           1       0.80      0.53      0.64      1876\n",
            "           2       0.53      0.59      0.55      1382\n",
            "           3       0.83      0.74      0.78       820\n",
            "           4       0.45      0.75      0.56       598\n",
            "\n",
            "    accuracy                           0.67      6314\n",
            "   macro avg       0.67      0.69      0.66      6314\n",
            "weighted avg       0.70      0.67      0.67      6314\n",
            "\n"
          ]
        }
      ]
    },
    {
      "cell_type": "code",
      "source": [],
      "metadata": {
        "id": "8QY_1xmlKJCd"
      },
      "execution_count": null,
      "outputs": []
    },
    {
      "cell_type": "markdown",
      "source": [
        "num = 50 has the best results"
      ],
      "metadata": {
        "id": "aWWs9J_ngEBJ"
      }
    },
    {
      "cell_type": "code",
      "source": [
        "new (after test data correction)\n",
        "\n",
        "num = 70 \n",
        "\n",
        "SVM accuracy: 0.6674057649667405\n",
        "SVM F1-score: 0.6701079032499816\n",
        "SVM Precision: 0.6980625784496042\n",
        "SVM Recall: 0.6674057649667405\n",
        "\n",
        "num = 40\n",
        "\n",
        "SVM accuracy: 0.6666138739309471\n",
        "SVM F1-score: 0.669823177873059\n",
        "SVM Precision: 0.6952472286335732\n",
        "SVM Recall: 0.6666138739309471\n",
        "\n",
        "num = 50\n",
        "\n",
        "SVM accuracy: 0.6743744060817232\n",
        "SVM F1-score: 0.6766088452416971\n",
        "SVM Precision: 0.7001442156021022\n",
        "SVM Recall: 0.6743744060817232\n",
        "\n",
        "\n",
        "num = 60\n",
        "\n",
        "SVM accuracy: 0.660437123851758\n",
        "SVM F1-score: 0.6633271004967022\n",
        "SVM Precision: 0.6952841532135426\n",
        "SVM Recall: 0.660437123851758\n"
      ],
      "metadata": {
        "id": "6kLSaYsR4VWv"
      },
      "execution_count": null,
      "outputs": []
    }
  ]
}