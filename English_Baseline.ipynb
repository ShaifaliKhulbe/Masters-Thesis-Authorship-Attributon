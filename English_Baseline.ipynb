{
  "nbformat": 4,
  "nbformat_minor": 0,
  "metadata": {
    "colab": {
      "provenance": [],
      "authorship_tag": "ABX9TyPO2l8RsrNFEViJyXPKZoMm",
      "include_colab_link": true
    },
    "kernelspec": {
      "name": "python3",
      "display_name": "Python 3"
    },
    "language_info": {
      "name": "python"
    }
  },
  "cells": [
    {
      "cell_type": "markdown",
      "metadata": {
        "id": "view-in-github",
        "colab_type": "text"
      },
      "source": [
        "<a href=\"https://colab.research.google.com/github/ShaifaliKhulbe/Masters-Thesis-Authorship-Attributon/blob/main/English_Baseline.ipynb\" target=\"_parent\"><img src=\"https://colab.research.google.com/assets/colab-badge.svg\" alt=\"Open In Colab\"/></a>"
      ]
    },
    {
      "cell_type": "code",
      "execution_count": null,
      "metadata": {
        "id": "d4hxso1SkEDT"
      },
      "outputs": [],
      "source": [
        "import pandas as pd\n",
        "import numpy as np\n",
        "import nltk\n",
        "import collections\n",
        "from nltk import word_tokenize\n",
        "from nltk.util import ngrams\n",
        "from sklearn.feature_extraction.text import CountVectorizer\n",
        "from sklearn.model_selection import train_test_split, cross_val_score\n",
        "from sklearn.svm import SVC\n",
        "from collections import Counter\n",
        "from sklearn.metrics import accuracy_score, f1_score, precision_score, recall_score\n",
        "from sklearn.metrics import classification_report\n",
        "from sklearn.preprocessing import LabelEncoder\n",
        "from sklearn.preprocessing import StandardScaler\n",
        "from sklearn.preprocessing import MinMaxScaler, MaxAbsScaler, RobustScaler, QuantileTransformer, PowerTransformer\n",
        "\n",
        "nltk.download('punkt')\n",
        "nltk.download('averaged_perceptron_tagger')\n",
        "from nltk.corpus import stopwords\n",
        "nltk.download('stopwords')"
      ]
    },
    {
      "cell_type": "code",
      "source": [
        "# load data\n",
        "df = pd.read_csv('200_chunks_english.csv')\n",
        "test_df = pd.read_csv('Test_200_chunks_english.csv')\n",
        "\n",
        "def find_top_function_words(data, num):\n",
        "    \n",
        "    # tokenize each sentence and create a list of all words\n",
        "    words = []\n",
        "    for sentence in data['chunks']:\n",
        "        tokens = nltk.word_tokenize(sentence.lower())\n",
        "        words.extend(tokens)\n",
        "\n",
        "    # count the frequency of each word in the entire CSV\n",
        "    word_freq = Counter(words)\n",
        "    \n",
        "    # sort the dictionary by frequency in descending order\n",
        "    sorted_word_freq = sorted(word_freq.items(), key=lambda x: x[1], reverse=True)\n",
        "\n",
        "    # extract the 100 most frequent stopwords\n",
        "    \n",
        "    top_stop_words = [word[0] for word in sorted_word_freq if word[0] in nltk.corpus.stopwords.words('english')][:100]\n",
        "\n",
        "    return top_stop_words\n",
        "       \n",
        "#NEW    \n",
        "top_function_words = find_top_function_words(df, 100)\n",
        "\n",
        "\n",
        "def create_feature_vector(sentence):\n",
        "   \n",
        "    # Tokenize the sentence into lowercase words\n",
        "    tokens = nltk.word_tokenize(sentence.lower())\n",
        "\n",
        "    # Count the occurrences of each word in the sentence\n",
        "    word_counts = Counter(tokens)\n",
        "\n",
        "    # Create a feature vector based on the number of occurrences of the top 100 stopwords\n",
        "    top_function_vector = []\n",
        "    for stop_word in top_function_words:\n",
        "        count = word_counts.get(stop_word, 0)\n",
        "        top_function_vector.append(count)\n",
        "           \n",
        "    # count the occurrences of each punctuation mark\n",
        "\n",
        "    punctuation_marks = ['.', ',', ';', ':', '?', '!', '«', '»', '-', '–', '—', '(', ')', '[', ']', '{', '}', '/', '\\\\', '...', \"'\", '\"']\n",
        "    \n",
        "    punctuation_counts = []\n",
        "    for mark in punctuation_marks:\n",
        "        count = sentence.count(mark)\n",
        "        punctuation_counts.append(count)\n",
        "\n",
        "\n",
        "\n",
        "    #feature_vector = punctuation_counts + top_function_vector\n",
        "    \n",
        "    #return feature_vector\n",
        "\n",
        "    # create scaler objects for each feature type\n",
        "    punc_scaler = StandardScaler()\n",
        "    top_func_scaler = StandardScaler()\n",
        "    \n",
        "\n",
        "   # convert to NumPy arrays and reshape to have one column\n",
        "    punctuation_counts_reshaped = np.array(punctuation_counts).reshape(-1, 1)\n",
        "    top_function_vector_reshaped = np.array(top_function_vector).reshape(-1, 1)\n",
        "    \n",
        "    \n",
        "    # fit and transform each feature type separately\n",
        "    punc_counts_scaled = punc_scaler.fit_transform(punctuation_counts_reshaped)\n",
        "    top_func_scaled = top_func_scaler.fit_transform(top_function_vector_reshaped)\n",
        "    \n",
        "    \n",
        "    # concatenate the scaled features\n",
        "    feature_vector = np.concatenate((punc_counts_scaled, top_func_scaled), axis=0)\n",
        "    \n",
        "    # convert back to a 1D array and return\n",
        "    return feature_vector.flatten()\n",
        "\n",
        "# create feature vectors for each sentence\n",
        "df['features'] = df['chunks'].apply(create_feature_vector)\n",
        "test_df['features'] = test_df['chunks'].apply(create_feature_vector)"
      ],
      "metadata": {
        "id": "93umsvXlkhg2"
      },
      "execution_count": null,
      "outputs": []
    },
    {
      "cell_type": "code",
      "source": [
        "len(test_df['features'][150])"
      ],
      "metadata": {
        "colab": {
          "base_uri": "https://localhost:8080/"
        },
        "id": "yoMybJ9pkhi-",
        "outputId": "8d22d1ac-3c3f-4396-f2b8-4d08c17c9302"
      },
      "execution_count": null,
      "outputs": [
        {
          "output_type": "execute_result",
          "data": {
            "text/plain": [
              "122"
            ]
          },
          "metadata": {},
          "execution_count": 3
        }
      ]
    },
    {
      "cell_type": "code",
      "source": [
        "X_train = np.array(df['features'].tolist())\n",
        "X_test = np.array(test_df['features'].tolist())\n",
        "\n",
        "y_train = df['Author_name']\n",
        "y_test = test_df['Author_name']\n",
        "\n",
        "le = LabelEncoder()\n",
        "y_train_encoded = le.fit_transform(y_train)\n",
        "\n",
        "le = LabelEncoder()\n",
        "y_test_encoded = le.fit_transform(y_test)\n",
        "\n",
        "# create and train the SVM model\n",
        "svm = SVC(kernel='linear')\n",
        "svm.fit(X_train, y_train_encoded)\n",
        "\n",
        "# Make predictions on the test set and calculate evaluation metrics\n",
        "y_pred = svm.predict(X_test)\n",
        "accuracy = accuracy_score(y_test_encoded, y_pred)\n",
        "f1 = f1_score(y_test_encoded, y_pred, average='weighted')\n",
        "precision = precision_score(y_test_encoded, y_pred, average='weighted')\n",
        "recall = recall_score(y_test_encoded, y_pred, average='weighted')\n",
        "\n",
        "# Print evaluation metrics\n",
        "print(\"SVM accuracy:\", accuracy)\n",
        "print(\"SVM F1-score:\", f1)\n",
        "print(\"SVM Precision:\", precision)\n",
        "print(\"SVM Recall:\", recall)"
      ],
      "metadata": {
        "colab": {
          "base_uri": "https://localhost:8080/"
        },
        "id": "hdjZPBhhkhk2",
        "outputId": "a19649d5-76e1-45bf-9d3e-e9e98eb8fde4"
      },
      "execution_count": null,
      "outputs": [
        {
          "output_type": "stream",
          "name": "stdout",
          "text": [
            "SVM accuracy: 0.6184668989547039\n",
            "SVM F1-score: 0.6219457370685341\n",
            "SVM Precision: 0.6584946470541537\n",
            "SVM Recall: 0.6184668989547039\n"
          ]
        }
      ]
    },
    {
      "cell_type": "code",
      "source": [
        "print(classification_report(y_test_encoded, y_pred))"
      ],
      "metadata": {
        "colab": {
          "base_uri": "https://localhost:8080/"
        },
        "id": "PYQXpt7Rkhoh",
        "outputId": "e327b8dd-cdfc-4845-c96a-c959a44990ea"
      },
      "execution_count": null,
      "outputs": [
        {
          "output_type": "stream",
          "name": "stdout",
          "text": [
            "              precision    recall  f1-score   support\n",
            "\n",
            "           0       0.70      0.78      0.74      1638\n",
            "           1       0.75      0.47      0.58      1876\n",
            "           2       0.47      0.52      0.49      1382\n",
            "           3       0.86      0.70      0.77       820\n",
            "           4       0.40      0.74      0.52       598\n",
            "\n",
            "    accuracy                           0.62      6314\n",
            "   macro avg       0.64      0.64      0.62      6314\n",
            "weighted avg       0.66      0.62      0.62      6314\n",
            "\n"
          ]
        }
      ]
    },
    {
      "cell_type": "code",
      "source": [],
      "metadata": {
        "id": "OZpBI8Um5Xi9"
      },
      "execution_count": null,
      "outputs": []
    },
    {
      "cell_type": "code",
      "source": [
        "from sklearn.naive_bayes import MultinomialNB\n",
        "from sklearn.ensemble import RandomForestClassifier\n",
        "from sklearn.ensemble import GradientBoostingClassifier\n",
        "from sklearn.neighbors import KNeighborsClassifier\n",
        "from sklearn.metrics import classification_report"
      ],
      "metadata": {
        "id": "hQaaqbo65Xl7"
      },
      "execution_count": null,
      "outputs": []
    },
    {
      "cell_type": "code",
      "source": [
        "# Random Forest\n",
        "random_forest_model = RandomForestClassifier()\n",
        "random_forest_model.fit(X_train, y_train_encoded)\n",
        "random_forest_predictions = random_forest_model.predict(X_test)\n",
        "random_forest_report = classification_report(y_test_encoded, random_forest_predictions)\n",
        "print(\"Random Forest report:\")\n",
        "print(random_forest_report)\n",
        "\n",
        "# Make predictions on the test set and calculate evaluation metrics\n",
        "random_forest_predictions = random_forest_model.predict(X_test)\n",
        "accuracy = accuracy_score(y_test_encoded, random_forest_predictions)\n",
        "f1 = f1_score(y_test_encoded, random_forest_predictions, average='weighted')\n",
        "precision = precision_score(y_test_encoded, random_forest_predictions, average='weighted')\n",
        "recall = recall_score(y_test_encoded, random_forest_predictions, average='weighted')\n",
        "\n",
        "# Print evaluation metrics\n",
        "print(\"random_forest accuracy:\", accuracy)\n",
        "print(\"random_forest F1-score:\", f1)\n",
        "print(\"random_forest Precision:\", precision)\n",
        "print(\"random_forest Recall:\", recall)"
      ],
      "metadata": {
        "colab": {
          "base_uri": "https://localhost:8080/"
        },
        "id": "rJTXqSO85Xp1",
        "outputId": "d1424d1d-401c-415c-ce24-8bcaf82c808b"
      },
      "execution_count": null,
      "outputs": [
        {
          "output_type": "stream",
          "name": "stdout",
          "text": [
            "Random Forest report:\n",
            "              precision    recall  f1-score   support\n",
            "\n",
            "           0       0.61      0.64      0.62      1638\n",
            "           1       0.72      0.35      0.47      1876\n",
            "           2       0.32      0.30      0.31      1382\n",
            "           3       0.59      0.52      0.56       820\n",
            "           4       0.26      0.73      0.38       598\n",
            "\n",
            "    accuracy                           0.47      6314\n",
            "   macro avg       0.50      0.51      0.47      6314\n",
            "weighted avg       0.54      0.47      0.48      6314\n",
            "\n",
            "random_forest accuracy: 0.47038327526132406\n",
            "random_forest F1-score: 0.4759087038316926\n",
            "random_forest Precision: 0.5424677976061084\n",
            "random_forest Recall: 0.47038327526132406\n"
          ]
        }
      ]
    },
    {
      "cell_type": "code",
      "source": [
        "# Gradient Boosting\n",
        "gradient_boosting_model = GradientBoostingClassifier()\n",
        "gradient_boosting_model.fit(X_train, y_train_encoded)\n",
        "gradient_boosting_predictions = gradient_boosting_model.predict(X_test)\n",
        "gradient_boosting_report = classification_report(y_test_encoded, gradient_boosting_predictions)\n",
        "print(\"Gradient Boosting report:\")\n",
        "print(gradient_boosting_report)\n",
        "\n",
        "# Make predictions on the test set and calculate evaluation metrics\n",
        "accuracy = accuracy_score(y_test_encoded, gradient_boosting_predictions)\n",
        "f1 = f1_score(y_test_encoded, gradient_boosting_predictions, average='weighted')\n",
        "precision = precision_score(y_test_encoded, gradient_boosting_predictions, average='weighted')\n",
        "recall = recall_score(y_test_encoded, gradient_boosting_predictions, average='weighted')\n",
        "\n",
        "# Print evaluation metrics\n",
        "print(\"random_forest accuracy:\", accuracy)\n",
        "print(\"random_forest F1-score:\", f1)\n",
        "print(\"random_forest Precision:\", precision)\n",
        "print(\"random_forest Recall:\", recall)"
      ],
      "metadata": {
        "colab": {
          "base_uri": "https://localhost:8080/"
        },
        "id": "L7fgNq2R5qaq",
        "outputId": "c3442779-99d5-48de-abfd-418a466535b6"
      },
      "execution_count": null,
      "outputs": [
        {
          "output_type": "stream",
          "name": "stdout",
          "text": [
            "Gradient Boosting report:\n",
            "              precision    recall  f1-score   support\n",
            "\n",
            "           0       0.65      0.72      0.68      1638\n",
            "           1       0.74      0.33      0.46      1876\n",
            "           2       0.39      0.40      0.40      1382\n",
            "           3       0.72      0.65      0.68       820\n",
            "           4       0.31      0.79      0.45       598\n",
            "\n",
            "    accuracy                           0.53      6314\n",
            "   macro avg       0.56      0.58      0.53      6314\n",
            "weighted avg       0.60      0.53      0.53      6314\n",
            "\n",
            "random_forest accuracy: 0.5315172632245803\n",
            "random_forest F1-score: 0.5309830757268973\n",
            "random_forest Precision: 0.5962204413630282\n",
            "random_forest Recall: 0.5315172632245803\n"
          ]
        }
      ]
    },
    {
      "cell_type": "code",
      "source": [
        "# k-Nearest Neighbors (k-NN)\n",
        "knn_model = KNeighborsClassifier()\n",
        "knn_model.fit(X_train, y_train_encoded)\n",
        "knn_predictions = knn_model.predict(X_test)\n",
        "knn_report = classification_report(y_test_encoded, knn_predictions)\n",
        "print(\"k-Nearest Neighbors (k-NN) report:\")\n",
        "print(knn_report)\n",
        "\n",
        "\n",
        "# Make predictions on the test set and calculate evaluation metrics\n",
        "accuracy = accuracy_score(y_test_encoded, knn_predictions)\n",
        "f1 = f1_score(y_test_encoded, knn_predictions, average='weighted')\n",
        "precision = precision_score(y_test_encoded, knn_predictions, average='weighted')\n",
        "recall = recall_score(y_test_encoded, knn_predictions, average='weighted')\n",
        "\n",
        "# Print evaluation metrics\n",
        "print(\"random_forest accuracy:\", accuracy)\n",
        "print(\"random_forest F1-score:\", f1)\n",
        "print(\"random_forest Precision:\", precision)\n",
        "print(\"random_forest Recall:\", recall)"
      ],
      "metadata": {
        "colab": {
          "base_uri": "https://localhost:8080/"
        },
        "id": "OKF0aci65qcr",
        "outputId": "c5de05d3-cf9f-4b8f-82fd-6b461528f071"
      },
      "execution_count": null,
      "outputs": [
        {
          "output_type": "stream",
          "name": "stdout",
          "text": [
            "k-Nearest Neighbors (k-NN) report:\n",
            "              precision    recall  f1-score   support\n",
            "\n",
            "           0       0.68      0.59      0.63      1638\n",
            "           1       0.52      0.31      0.39      1876\n",
            "           2       0.39      0.35      0.37      1382\n",
            "           3       0.45      0.76      0.57       820\n",
            "           4       0.34      0.67      0.45       598\n",
            "\n",
            "    accuracy                           0.48      6314\n",
            "   macro avg       0.48      0.54      0.48      6314\n",
            "weighted avg       0.51      0.48      0.48      6314\n",
            "\n",
            "random_forest accuracy: 0.48400380107697183\n",
            "random_forest F1-score: 0.47722683889269\n",
            "random_forest Precision: 0.5095014501293667\n",
            "random_forest Recall: 0.48400380107697183\n"
          ]
        }
      ]
    },
    {
      "cell_type": "code",
      "source": [
        "import numpy as np\n",
        "from sklearn.neural_network import MLPClassifier\n",
        "from sklearn.metrics import classification_report, accuracy_score, f1_score, precision_score, recall_score\n",
        "\n",
        "#MLP (Multi-Layer Perceptron)\n",
        "mlp_model = MLPClassifier()\n",
        "mlp_model.fit(X_train, y_train_encoded)\n",
        "mlp_predictions = mlp_model.predict(X_test)\n",
        "mlp_report = classification_report(y_test_encoded, mlp_predictions)\n",
        "print(\"MLP (Multi-Layer Perceptron) report:\")\n",
        "print(mlp_report)\n",
        "\n",
        "#Make predictions on the test set and calculate evaluation metrics\n",
        "accuracy = accuracy_score(y_test_encoded, mlp_predictions)\n",
        "f1 = f1_score(y_test_encoded, mlp_predictions, average='weighted')\n",
        "precision = precision_score(y_test_encoded, mlp_predictions, average='weighted')\n",
        "recall = recall_score(y_test_encoded, mlp_predictions, average='weighted')\n",
        "\n",
        "#Print evaluation metrics\n",
        "print(\"MLP accuracy:\", accuracy)\n",
        "print(\"MLP F1-score:\", f1)\n",
        "print(\"MLP Precision:\", precision)\n",
        "print(\"MLP Recall:\", recall)"
      ],
      "metadata": {
        "colab": {
          "base_uri": "https://localhost:8080/"
        },
        "id": "zBKy5tIS5qft",
        "outputId": "0989678d-5fcf-4859-fc4c-f7e95fea1ac0"
      },
      "execution_count": null,
      "outputs": [
        {
          "output_type": "stream",
          "name": "stdout",
          "text": [
            "MLP (Multi-Layer Perceptron) report:\n",
            "              precision    recall  f1-score   support\n",
            "\n",
            "           0       0.70      0.79      0.74      1638\n",
            "           1       0.72      0.46      0.56      1876\n",
            "           2       0.48      0.45      0.46      1382\n",
            "           3       0.77      0.72      0.74       820\n",
            "           4       0.36      0.73      0.49       598\n",
            "\n",
            "    accuracy                           0.60      6314\n",
            "   macro avg       0.61      0.63      0.60      6314\n",
            "weighted avg       0.63      0.60      0.60      6314\n",
            "\n",
            "MLP accuracy: 0.6016788089958822\n",
            "MLP F1-score: 0.6027073808559634\n",
            "MLP Precision: 0.633569742690812\n",
            "MLP Recall: 0.6016788089958822\n"
          ]
        },
        {
          "output_type": "stream",
          "name": "stderr",
          "text": [
            "/usr/local/lib/python3.10/dist-packages/sklearn/neural_network/_multilayer_perceptron.py:686: ConvergenceWarning: Stochastic Optimizer: Maximum iterations (200) reached and the optimization hasn't converged yet.\n",
            "  warnings.warn(\n"
          ]
        }
      ]
    },
    {
      "cell_type": "code",
      "source": [],
      "metadata": {
        "id": "fsp0vD8G5qi9"
      },
      "execution_count": null,
      "outputs": []
    },
    {
      "cell_type": "code",
      "source": [
        "Random Forest:\n",
        "\n",
        "random_forest accuracy: 0.47038327526132406\n",
        "random_forest F1-score: 0.4759087038316926\n",
        "random_forest Precision: 0.5424677976061084\n",
        "random_forest Recall: 0.47038327526132406\n",
        "\n",
        "\n",
        "Gradient Boosting:\n",
        "\n",
        "\n",
        "random_forest accuracy: 0.5315172632245803\n",
        "random_forest F1-score: 0.5309830757268973\n",
        "random_forest Precision: 0.5962204413630282\n",
        "random_forest Recall: 0.5315172632245803\n",
        "\n",
        "\n",
        "\n",
        "k-Nearest Neighbors (k-NN):\n",
        "\n",
        "\n",
        "random_forest accuracy: 0.48400380107697183\n",
        "random_forest F1-score: 0.47722683889269\n",
        "random_forest Precision: 0.5095014501293667\n",
        "random_forest Recall: 0.48400380107697183\n",
        "\n",
        "\n",
        "MLP (Multi-Layer Perceptron):\n",
        "\n",
        "\n",
        "MLP accuracy: 0.6016788089958822\n",
        "MLP F1-score: 0.6027073808559634\n",
        "MLP Precision: 0.633569742690812\n",
        "MLP Recall: 0.6016788089958822\n",
        "\n",
        "SVM: \n",
        "\n",
        "SVM accuracy: 0.6184668989547039\n",
        "SVM F1-score: 0.6219457370685341\n",
        "SVM Precision: 0.6584946470541537\n",
        "SVM Recall: 0.6184668989547039\n"
      ],
      "metadata": {
        "id": "bEUKNzYr4JPT"
      },
      "execution_count": null,
      "outputs": []
    },
    {
      "cell_type": "code",
      "source": [
        "SVM (best results)\n",
        "\n",
        "SVM accuracy: 0.6184668989547039\n",
        "SVM F1-score: 0.6219457370685341\n",
        "SVM Precision: 0.6584946470541537\n",
        "SVM Recall: 0.6184668989547039\n",
        "\n",
        "\n",
        "              precision    recall  f1-score   support\n",
        "\n",
        "           0       0.70      0.78      0.74      1638\n",
        "           1       0.75      0.47      0.58      1876\n",
        "           2       0.47      0.52      0.49      1382\n",
        "           3       0.86      0.70      0.77       820\n",
        "           4       0.40      0.74      0.52       598\n",
        "\n",
        "    accuracy                           0.62      6314\n",
        "   macro avg       0.64      0.64      0.62      6314\n",
        "weighted avg       0.66      0.62      0.62      6314\n",
        "\n",
        "\n",
        "\n"
      ],
      "metadata": {
        "id": "zJOC51b54JS5"
      },
      "execution_count": null,
      "outputs": []
    },
    {
      "cell_type": "code",
      "source": [],
      "metadata": {
        "id": "k461eOUz4JWX"
      },
      "execution_count": null,
      "outputs": []
    }
  ]
}