{
  "cells": [
    {
      "cell_type": "markdown",
      "metadata": {
        "id": "view-in-github",
        "colab_type": "text"
      },
      "source": [
        "<a href=\"https://colab.research.google.com/github/ShaifaliKhulbe/Masters-Thesis-Authorship-Attributon/blob/main/French_Baseline%2BPOS(POET_Tagger).ipynb\" target=\"_parent\"><img src=\"https://colab.research.google.com/assets/colab-badge.svg\" alt=\"Open In Colab\"/></a>"
      ]
    },
    {
      "cell_type": "markdown",
      "metadata": {
        "id": "vuM_2pc64Y4X"
      },
      "source": [
        "\n",
        "https://huggingface.co/qanastek/pos-french?text=George+Washington+est+all%C3%A9+%C3%A0+Washington\n",
        "\n"
      ]
    },
    {
      "cell_type": "code",
      "execution_count": null,
      "metadata": {
        "id": "LEPDpOCc4lT-"
      },
      "outputs": [],
      "source": [
        "!pip install flair"
      ]
    },
    {
      "cell_type": "code",
      "execution_count": null,
      "metadata": {
        "id": "pjwLdGubJpca"
      },
      "outputs": [],
      "source": [
        "import re\n",
        "import pandas as pd\n",
        "import numpy as np\n",
        "import nltk\n",
        "import collections\n",
        "from nltk import word_tokenize\n",
        "from nltk.util import ngrams\n",
        "from sklearn.feature_extraction.text import CountVectorizer\n",
        "from sklearn.model_selection import train_test_split, cross_val_score\n",
        "from sklearn.svm import SVC\n",
        "from collections import Counter\n",
        "from sklearn.metrics import accuracy_score, f1_score, precision_score, recall_score\n",
        "from sklearn.metrics import classification_report\n",
        "from sklearn.preprocessing import LabelEncoder\n",
        "from sklearn.preprocessing import StandardScaler\n",
        "nltk.download('punkt')\n",
        "nltk.download('averaged_perceptron_tagger')\n",
        "nltk.download('universal_tagset')"
      ]
    },
    {
      "cell_type": "code",
      "execution_count": null,
      "metadata": {
        "id": "RynHsDmXKfUa"
      },
      "outputs": [],
      "source": [
        "from nltk.corpus import stopwords\n",
        "nltk.download('stopwords')"
      ]
    },
    {
      "cell_type": "code",
      "execution_count": null,
      "metadata": {
        "colab": {
          "base_uri": "https://localhost:8080/",
          "height": 86,
          "referenced_widgets": [
            "5089b139c3e34e08b7d8816055ff7a89",
            "8622f3e4185441be8a4231864fa97a91",
            "a9c6d330c4e142c2b961e56709d9f43e",
            "e2572d3abe6f4e30ac7e56e62c6e4e51",
            "335b4bd319dc4d0bb88814810b70cb8f",
            "3f5cddee21234544a00856fdd67bc744",
            "e4d6e519d4754235b78a8894d63b210b",
            "18031c5395ca43588ea66ebf11c8760d",
            "21651d1bba6b4d3ca1c7559bd2cdde14",
            "408e44fda2284095bf0d32e3501ea3a3",
            "6708fd59212e457a9a1ebd09ccf58171"
          ]
        },
        "id": "WXAAjFX85G7m",
        "outputId": "4537a08d-e599-4190-a927-5b141c75170c"
      },
      "outputs": [
        {
          "output_type": "display_data",
          "data": {
            "text/plain": [
              "Downloading pytorch_model.bin:   0%|          | 0.00/1.25G [00:00<?, ?B/s]"
            ],
            "application/vnd.jupyter.widget-view+json": {
              "version_major": 2,
              "version_minor": 0,
              "model_id": "5089b139c3e34e08b7d8816055ff7a89"
            }
          },
          "metadata": {}
        },
        {
          "output_type": "stream",
          "name": "stdout",
          "text": [
            "2023-05-12 00:22:45,295 SequenceTagger predicts: Dictionary with 69 tags: <unk>, O, DET, NFP, ADJFP, AUX, VPPMS, ADV, PREP, PDEMMS, NMS, COSUB, PINDMS, PPOBJMS, VERB, DETFS, NFS, YPFOR, VPPFS, PUNCT, DETMS, PROPN, ADJMS, PPER3FS, ADJFS, COCO, NMP, PREL, PPER1S, ADJMP, VPPMP, DINTMS, PPER3MS, PPER3MP, PREF, ADJ, DINTFS, CHIF, XFAMIL, PRELFS, SYM, NOUN, MOTINC, PINDFS, PPOBJMP, NUM, PREFP, PDEMFS, VPPFP, PPER3FP\n"
          ]
        }
      ],
      "source": [
        "from flair.data import Sentence\n",
        "from flair.models import SequenceTagger\n",
        "\n",
        "# Load the model\n",
        "model = SequenceTagger.load(\"qanastek/pos-french\")"
      ]
    },
    {
      "cell_type": "code",
      "execution_count": null,
      "metadata": {
        "colab": {
          "base_uri": "https://localhost:8080/"
        },
        "id": "pOY2BGmYo8oR",
        "outputId": "42450052-82e5-492c-ded9-b84ab9236071"
      },
      "outputs": [
        {
          "output_type": "stream",
          "name": "stdout",
          "text": [
            "142\n",
            "900\n"
          ]
        }
      ],
      "source": [
        "import nltk\n",
        "from itertools import chain\n",
        "from nltk.util import ngrams\n",
        "from collections import Counter\n",
        "\n",
        "# load data\n",
        "df = pd.read_csv('200_chunks_French.csv')\n",
        "test_df = pd.read_csv('Test_200_chunks_French.csv')\n",
        "\n",
        "#define the dictionary to store all top ngrams for each author\n",
        "top_ngrams = {}\n",
        "\n",
        "#define the number of top pos ngrams to calculate\n",
        "num = 60\n",
        "\n",
        "# calculate the pos ngrams for each author and store them in pos_ngrams_by_author\n",
        "for author in df['Author_name'].unique():\n",
        "    author_data = df[df['Author_name'] == author]\n",
        "    sentences = list(author_data['chunks'])\n",
        "\n",
        "    all_pos_1grams = []\n",
        "    all_pos_2grams = []\n",
        "    all_pos_3grams = []\n",
        "\n",
        "    for sentence in sentences:\n",
        "\n",
        "        # tokenize the sentence\n",
        "        #tokens = nltk.word_tokenize(sentence, language='french')\n",
        "\n",
        "        # tag the tokens with POS tags\n",
        "\n",
        "        sentence = Sentence(sentence)\n",
        "        # Predict tags\n",
        "        model.predict(sentence)\n",
        "\n",
        "        tagged_string = str(sentence.to_tagged_string())\n",
        "\n",
        "        #tagged_string = 'Sentence[6]: \"George Washington est allé à Washington\" → [\"George\"/PROPN, \"Washington\"/XFAMIL, \"est\"/AUX, \"allé\"/VPPMS, \"à\"/PREP, \"Washington\"/PROPN]'\n",
        "        tagged_list = []\n",
        "\n",
        "        # Extract word and POS tag pairs using regular expressions\n",
        "        pattern = r'\"([^\"]+)\"/(\\w+)'\n",
        "        matches = re.findall(pattern, tagged_string)\n",
        "\n",
        "        # Iterate over matches and append word and POS tag to tagged_list\n",
        "        for match in matches:\n",
        "            word, pos = match\n",
        "            tagged_list.append((word, pos))\n",
        "\n",
        "        #print(tagged_list)\n",
        "\n",
        "        pos_tags = tagged_list\n",
        "\n",
        "        #pos_tags = nltk.pos_tag(tokens, tagset = 'universal')\n",
        "\n",
        "        # create POS n-grams of size n\n",
        "        pos_unigram_list = ngrams([tag for _, tag in pos_tags], 1)\n",
        "        pos_bigram_list = ngrams([tag for _, tag in pos_tags], 2)\n",
        "        pos_trigram_list = ngrams([tag for _, tag in pos_tags], 3)\n",
        "\n",
        "        # add the POS n-grams to the list\n",
        "        all_pos_1grams.extend(pos_unigram_list)\n",
        "        all_pos_2grams.extend(pos_bigram_list)\n",
        "        all_pos_3grams.extend(pos_trigram_list)\n",
        "      \n",
        "  \n",
        "    # count the frequency of each POS n-gram\n",
        "    pos_1gram_counts = nltk.FreqDist(all_pos_1grams)\n",
        "    pos_2gram_counts = nltk.FreqDist(all_pos_2grams)\n",
        "    pos_3gram_counts = nltk.FreqDist(all_pos_3grams)\n",
        "    \n",
        "    # return the top num POS n-grams\n",
        "\n",
        "    top_unigrams= [ngram for ngram, count in pos_1gram_counts.most_common(num)]\n",
        "\n",
        "    top_bigrams= [ngram for ngram, count in pos_2gram_counts.most_common(num)]\n",
        "\n",
        "    top_trigrams= [ngram for ngram, count in pos_3gram_counts.most_common(num)]\n",
        "\n",
        "    top_ngrams[author] = top_trigrams + top_bigrams + top_unigrams\n",
        "\n",
        "#print(top_ngrams)\n",
        "\n",
        "# Find the name of the first key in the dictionary\n",
        "first_key = list(top_ngrams.keys())[0]\n",
        "\n",
        "# Initialize the common_values set using the first key\n",
        "common_ngrams = set(top_ngrams[first_key])\n",
        "\n",
        "for key in top_ngrams:\n",
        "    common_ngrams = common_ngrams.intersection(top_ngrams[key])\n",
        "\n",
        "print(len(common_ngrams))\n",
        "\n",
        "# Create a list of all values from all keys minus the common values\n",
        "all_ngrams = []\n",
        "\n",
        "for key in top_ngrams:\n",
        "    all_ngrams.extend(top_ngrams[key])\n",
        "    \n",
        "print(len(all_ngrams))\n",
        "\n",
        "not_common_ngrams = set(all_ngrams).difference(common_ngrams)\n",
        "not_common_ngrams_list = list(not_common_ngrams)\n",
        "\n",
        "\n",
        "#Finding top 100 most frequent words\n",
        "def find_top_function_words(data, num):\n",
        "    \n",
        "    # tokenize each sentence and create a list of all words\n",
        "    words = []\n",
        "    for sentence in data['chunks']:\n",
        "        tokens = nltk.word_tokenize(sentence.lower(), language='french')\n",
        "        words.extend(tokens)\n",
        "\n",
        "    # count the frequency of each word in the entire CSV\n",
        "    word_freq = Counter(words)\n",
        "    \n",
        "    # sort the dictionary by frequency in descending order\n",
        "    sorted_word_freq = sorted(word_freq.items(), key=lambda x: x[1], reverse=True)\n",
        "\n",
        "    # extract the 100 most frequent stopwords\n",
        "    \n",
        "    top_stop_words = [word[0] for word in sorted_word_freq if word[0] in nltk.corpus.stopwords.words('french')][:100]\n",
        "\n",
        "    return top_stop_words\n",
        "       \n",
        "#NEW    \n",
        "top_function_words = find_top_function_words(df, 100)\n",
        "\n",
        "# define a function to create the feature vector for a given sentence\n",
        "def create_feature_vector(sentence):\n",
        "    \n",
        "    # tag the sentence with POS tags\n",
        "\n",
        "    sent = Sentence(sentence)\n",
        "    # Predict tags\n",
        "    model.predict(sent)\n",
        "\n",
        "    tagged_string = str(sent.to_tagged_string())\n",
        "\n",
        "    #tagged_string = 'Sentence[6]: \"George Washington est allé à Washington\" → [\"George\"/PROPN, \"Washington\"/XFAMIL, \"est\"/AUX, \"allé\"/VPPMS, \"à\"/PREP, \"Washington\"/PROPN]'\n",
        "    tagged_list = []\n",
        "\n",
        "    # Extract word and POS tag pairs using regular expressions\n",
        "    pattern = r'\"([^\"]+)\"/(\\w+)'\n",
        "    matches = re.findall(pattern, tagged_string)\n",
        "\n",
        "    # Iterate over matches and append word and POS tag to tagged_list\n",
        "    for match in matches:\n",
        "        word, pos = match\n",
        "        tagged_list.append((word, pos))\n",
        "\n",
        "    #print(tagged_list)\n",
        "\n",
        "    pos_tags = tagged_list\n",
        "    \n",
        "    # create bigram, trigram, and four-gram POS sequences\n",
        "    unigram_pos_seqs = ngrams([tag for _, tag in pos_tags], 1)\n",
        "    bigram_pos_seqs = ngrams([tag for _, tag in pos_tags], 2)\n",
        "    trigram_pos_seqs = ngrams([tag for _, tag in pos_tags], 3)\n",
        "    \n",
        "    #print(not_common_ngrams_list)\n",
        "\n",
        "    # concatenate the three n-gram sequences into one\n",
        "    all_ngram_pos = chain(unigram_pos_seqs, bigram_pos_seqs, trigram_pos_seqs)\n",
        "\n",
        "    # create a list to store the counts of each n-gram in the not_common_ngrams_list\n",
        "    pos_counts = []\n",
        "\n",
        "    # Converting all_ngram_pos to a list and printing the first 10 n-grams\n",
        "    all_ngrams_list = list(all_ngram_pos)\n",
        "    #print(all_ngrams_list[:10])\n",
        "\n",
        "    pos_counts = []\n",
        "    \n",
        "    for pos_ngram_list, top_pos_ngrams in zip([all_ngrams_list],\n",
        "                                              [not_common_ngrams_list]):\n",
        "        for pos_ngram in top_pos_ngrams:\n",
        "            count = 0\n",
        "            for top_pos in pos_ngram_list:\n",
        "                if pos_ngram == top_pos:\n",
        "                    count += 1\n",
        "            pos_counts.append(count)\n",
        "\n",
        "    \n",
        "    # Tokenize the sentence into lowercase words\n",
        "    tokens = nltk.word_tokenize(sentence.lower(), language='french')\n",
        "\n",
        "    # Count the occurrences of each word in the sentence\n",
        "    word_counts = Counter(tokens)\n",
        "\n",
        "    # Create a feature vector based on the number of occurrences of the top 100 stopwords\n",
        "    top_function_vector = []\n",
        "    for stop_word in top_function_words:\n",
        "        count = word_counts.get(stop_word, 0)\n",
        "        top_function_vector.append(count)\n",
        "           \n",
        "    # count the occurrences of each punctuation mark\n",
        "    punctuation_marks = ['.', ',', ';', ':', '?', '!', '«', '»', '-', '–', '—', '(', ')', '[', ']', '{', '}', '/', '\\\\', '...', \"'\", '\"']\n",
        "    \n",
        "    punctuation_counts = []\n",
        "    for mark in punctuation_marks:\n",
        "        count = sentence.count(mark)\n",
        "        punctuation_counts.append(count)\n",
        "\n",
        "    #feature_vector = punctuation_counts + top_function_vector + pos_counts\n",
        "\n",
        "    # create scaler objects for each feature type\n",
        "    punc_scaler = StandardScaler()\n",
        "    top_func_scaler = StandardScaler()\n",
        "    pos_scaler = StandardScaler()\n",
        "\n",
        "   # convert to NumPy arrays and reshape to have one column\n",
        "    punctuation_counts_reshaped = np.array(punctuation_counts).reshape(-1, 1)\n",
        "    top_function_vector_reshaped = np.array(top_function_vector).reshape(-1, 1)\n",
        "    pos_counts_reshaped = np.array(pos_counts).reshape(-1, 1)\n",
        "    \n",
        "    # fit and transform each feature type separately\n",
        "    punc_counts_scaled = punc_scaler.fit_transform(punctuation_counts_reshaped)\n",
        "    top_func_scaled = top_func_scaler.fit_transform(top_function_vector_reshaped)\n",
        "    pos_counts_scaled = pos_scaler.fit_transform(pos_counts_reshaped)\n",
        "    \n",
        "    # concatenate the scaled features\n",
        "    feature_vector = np.concatenate((punc_counts_scaled, top_func_scaled, pos_counts_scaled), axis=0)\n",
        "    \n",
        "    # convert back to a 1D array and return\n",
        "    return feature_vector.flatten()\n",
        "\n",
        "# create feature vectors for each sentence\n",
        "df['features'] = df['chunks'].apply(create_feature_vector)\n",
        "test_df['features'] = test_df['chunks'].apply(create_feature_vector)"
      ]
    },
    {
      "cell_type": "code",
      "execution_count": null,
      "metadata": {
        "colab": {
          "base_uri": "https://localhost:8080/"
        },
        "id": "fT86ZDizKI3X",
        "outputId": "b9d02ac6-7d9b-4a82-c472-ac844708a54f"
      },
      "outputs": [
        {
          "output_type": "execute_result",
          "data": {
            "text/plain": [
              "214"
            ]
          },
          "metadata": {},
          "execution_count": 19
        }
      ],
      "source": [
        "len(test_df['features'][150]) #222 num=60 # 184 num = 25"
      ]
    },
    {
      "cell_type": "code",
      "execution_count": null,
      "metadata": {
        "colab": {
          "base_uri": "https://localhost:8080/"
        },
        "id": "DggMbl2FKI5p",
        "outputId": "14b732bb-595d-41be-ac3b-d567d7261bcc"
      },
      "outputs": [
        {
          "output_type": "stream",
          "name": "stdout",
          "text": [
            "SVM accuracy: 0.8933685003767897\n",
            "SVM F1-score: 0.8914358962714376\n",
            "SVM Precision: 0.8956220914534114\n",
            "SVM Recall: 0.8933685003767897\n"
          ]
        }
      ],
      "source": [
        "\n",
        "X_train = np.array(df['features'].tolist())\n",
        "X_test = np.array(test_df['features'].tolist())\n",
        "\n",
        "y_train = df['Author_name']\n",
        "y_test = test_df['Author_name']\n",
        "\n",
        "le = LabelEncoder()\n",
        "y_train_encoded = le.fit_transform(y_train)\n",
        "\n",
        "le = LabelEncoder()\n",
        "y_test_encoded = le.fit_transform(y_test)\n",
        "\n",
        "# create and train the SVM model\n",
        "svm = SVC(kernel='linear')\n",
        "svm.fit(X_train, y_train_encoded)\n",
        "\n",
        "# Make predictions on the test set and calculate evaluation metrics\n",
        "y_pred = svm.predict(X_test)\n",
        "accuracy = accuracy_score(y_test_encoded, y_pred)\n",
        "f1 = f1_score(y_test_encoded, y_pred, average='weighted')\n",
        "precision = precision_score(y_test_encoded, y_pred, average='weighted')\n",
        "recall = recall_score(y_test_encoded, y_pred, average='weighted')\n",
        "\n",
        "# Print evaluation metrics\n",
        "print(\"SVM accuracy:\", accuracy)\n",
        "print(\"SVM F1-score:\", f1)\n",
        "print(\"SVM Precision:\", precision)\n",
        "print(\"SVM Recall:\", recall)"
      ]
    },
    {
      "cell_type": "code",
      "execution_count": null,
      "metadata": {
        "colab": {
          "base_uri": "https://localhost:8080/"
        },
        "id": "VLp1KFYXKI-E",
        "outputId": "10fc12ff-6187-4c44-87b8-f3f7a0a9f59c"
      },
      "outputs": [
        {
          "output_type": "stream",
          "name": "stdout",
          "text": [
            "              precision    recall  f1-score   support\n",
            "\n",
            "           0       0.91      0.89      0.90       567\n",
            "           1       0.62      0.80      0.70       237\n",
            "           2       0.95      0.85      0.90       736\n",
            "           3       0.23      0.18      0.20        91\n",
            "           4       0.95      1.00      0.98      1023\n",
            "\n",
            "    accuracy                           0.89      2654\n",
            "   macro avg       0.73      0.74      0.73      2654\n",
            "weighted avg       0.89      0.89      0.88      2654\n",
            "\n"
          ]
        }
      ],
      "source": [
        "print(classification_report(y_test_encoded, y_pred))"
      ]
    },
    {
      "cell_type": "code",
      "source": [],
      "metadata": {
        "id": "182id9jMw8jR"
      },
      "execution_count": null,
      "outputs": []
    },
    {
      "cell_type": "markdown",
      "source": [
        "num = 50 has the best result"
      ],
      "metadata": {
        "id": "SL81uyQ3w9FP"
      }
    },
    {
      "cell_type": "code",
      "source": [
        "\n",
        "num = 60\n",
        "\n",
        "SVM accuracy: 0.8933685003767897\n",
        "SVM F1-score: 0.8914358962714376\n",
        "SVM Precision: 0.8956220914534114\n",
        "SVM Recall: 0.8933685003767897\n",
        "\n",
        "num = 40\n",
        "\n",
        "SVM accuracy: 0.8858327053504145\n",
        "SVM F1-score: 0.8847407636591803\n",
        "SVM Precision: 0.887831478861173\n",
        "SVM Recall: 0.8858327053504145\n",
        "\n",
        "\n",
        "              precision    recall  f1-score   support\n",
        "\n",
        "           0       0.91      0.89      0.90       567\n",
        "           1       0.62      0.80      0.70       237\n",
        "           2       0.95      0.85      0.90       736\n",
        "           3       0.23      0.18      0.20        91\n",
        "           4       0.95      1.00      0.98      1023\n",
        "\n",
        "    accuracy                           0.89      2654\n",
        "   macro avg       0.73      0.74      0.73      2654\n",
        "weighted avg       0.89      0.89      0.88      2654\n",
        "\n",
        "num = 50\n",
        "\n",
        "SVM accuracy: 0.8948756593820648\n",
        "SVM F1-score: 0.8922313961288101\n",
        "SVM Precision: 0.8936182696795476\n",
        "SVM Recall: 0.8948756593820648\n",
        "\n",
        "\n",
        "             precision    recall  f1-score   support\n",
        "\n",
        "           0       0.90      0.90      0.90       567\n",
        "           1       0.63      0.78      0.70       237\n",
        "           2       0.95      0.87      0.91       736\n",
        "           3       0.35      0.21      0.26        91\n",
        "           4       0.96      1.00      0.98      1023\n",
        "\n",
        "    accuracy                           0.89      2654\n",
        "   macro avg       0.76      0.75      0.75      2654\n",
        "weighted avg       0.89      0.89      0.89      2654\n",
        "\n",
        "\n",
        "num = 70\n",
        "\n",
        "SVM accuracy: 0.892991710625471\n",
        "SVM F1-score: 0.8904459396508708\n",
        "SVM Precision: 0.8912335897834857\n",
        "SVM Recall: 0.892991710625471\n",
        "\n",
        "              precision    recall  f1-score   support\n",
        "\n",
        "           0       0.90      0.91      0.90       567\n",
        "           1       0.64      0.77      0.70       237\n",
        "           2       0.95      0.86      0.90       736\n",
        "           3       0.30      0.20      0.24        91\n",
        "           4       0.96      1.00      0.98      1023\n",
        "\n",
        "    accuracy                           0.89      2654\n",
        "   macro avg       0.75      0.75      0.74      2654\n",
        "weighted avg       0.89      0.89      0.89      2654\n",
        "\n",
        "\n",
        "\n",
        "\n"
      ],
      "metadata": {
        "id": "4QrsVspEWSkg"
      },
      "execution_count": null,
      "outputs": []
    },
    {
      "cell_type": "code",
      "source": [],
      "metadata": {
        "id": "cpLE6OafWSoD"
      },
      "execution_count": null,
      "outputs": []
    }
  ],
  "metadata": {
    "colab": {
      "provenance": [],
      "authorship_tag": "ABX9TyPW+M3EHiDivKCSpH1oCdij",
      "include_colab_link": true
    },
    "kernelspec": {
      "display_name": "Python 3",
      "name": "python3"
    },
    "language_info": {
      "name": "python"
    },
    "widgets": {
      "application/vnd.jupyter.widget-state+json": {
        "5089b139c3e34e08b7d8816055ff7a89": {
          "model_module": "@jupyter-widgets/controls",
          "model_name": "HBoxModel",
          "model_module_version": "1.5.0",
          "state": {
            "_dom_classes": [],
            "_model_module": "@jupyter-widgets/controls",
            "_model_module_version": "1.5.0",
            "_model_name": "HBoxModel",
            "_view_count": null,
            "_view_module": "@jupyter-widgets/controls",
            "_view_module_version": "1.5.0",
            "_view_name": "HBoxView",
            "box_style": "",
            "children": [
              "IPY_MODEL_8622f3e4185441be8a4231864fa97a91",
              "IPY_MODEL_a9c6d330c4e142c2b961e56709d9f43e",
              "IPY_MODEL_e2572d3abe6f4e30ac7e56e62c6e4e51"
            ],
            "layout": "IPY_MODEL_335b4bd319dc4d0bb88814810b70cb8f"
          }
        },
        "8622f3e4185441be8a4231864fa97a91": {
          "model_module": "@jupyter-widgets/controls",
          "model_name": "HTMLModel",
          "model_module_version": "1.5.0",
          "state": {
            "_dom_classes": [],
            "_model_module": "@jupyter-widgets/controls",
            "_model_module_version": "1.5.0",
            "_model_name": "HTMLModel",
            "_view_count": null,
            "_view_module": "@jupyter-widgets/controls",
            "_view_module_version": "1.5.0",
            "_view_name": "HTMLView",
            "description": "",
            "description_tooltip": null,
            "layout": "IPY_MODEL_3f5cddee21234544a00856fdd67bc744",
            "placeholder": "​",
            "style": "IPY_MODEL_e4d6e519d4754235b78a8894d63b210b",
            "value": "Downloading pytorch_model.bin: 100%"
          }
        },
        "a9c6d330c4e142c2b961e56709d9f43e": {
          "model_module": "@jupyter-widgets/controls",
          "model_name": "FloatProgressModel",
          "model_module_version": "1.5.0",
          "state": {
            "_dom_classes": [],
            "_model_module": "@jupyter-widgets/controls",
            "_model_module_version": "1.5.0",
            "_model_name": "FloatProgressModel",
            "_view_count": null,
            "_view_module": "@jupyter-widgets/controls",
            "_view_module_version": "1.5.0",
            "_view_name": "ProgressView",
            "bar_style": "success",
            "description": "",
            "description_tooltip": null,
            "layout": "IPY_MODEL_18031c5395ca43588ea66ebf11c8760d",
            "max": 1245112805,
            "min": 0,
            "orientation": "horizontal",
            "style": "IPY_MODEL_21651d1bba6b4d3ca1c7559bd2cdde14",
            "value": 1245112805
          }
        },
        "e2572d3abe6f4e30ac7e56e62c6e4e51": {
          "model_module": "@jupyter-widgets/controls",
          "model_name": "HTMLModel",
          "model_module_version": "1.5.0",
          "state": {
            "_dom_classes": [],
            "_model_module": "@jupyter-widgets/controls",
            "_model_module_version": "1.5.0",
            "_model_name": "HTMLModel",
            "_view_count": null,
            "_view_module": "@jupyter-widgets/controls",
            "_view_module_version": "1.5.0",
            "_view_name": "HTMLView",
            "description": "",
            "description_tooltip": null,
            "layout": "IPY_MODEL_408e44fda2284095bf0d32e3501ea3a3",
            "placeholder": "​",
            "style": "IPY_MODEL_6708fd59212e457a9a1ebd09ccf58171",
            "value": " 1.25G/1.25G [00:07&lt;00:00, 197MB/s]"
          }
        },
        "335b4bd319dc4d0bb88814810b70cb8f": {
          "model_module": "@jupyter-widgets/base",
          "model_name": "LayoutModel",
          "model_module_version": "1.2.0",
          "state": {
            "_model_module": "@jupyter-widgets/base",
            "_model_module_version": "1.2.0",
            "_model_name": "LayoutModel",
            "_view_count": null,
            "_view_module": "@jupyter-widgets/base",
            "_view_module_version": "1.2.0",
            "_view_name": "LayoutView",
            "align_content": null,
            "align_items": null,
            "align_self": null,
            "border": null,
            "bottom": null,
            "display": null,
            "flex": null,
            "flex_flow": null,
            "grid_area": null,
            "grid_auto_columns": null,
            "grid_auto_flow": null,
            "grid_auto_rows": null,
            "grid_column": null,
            "grid_gap": null,
            "grid_row": null,
            "grid_template_areas": null,
            "grid_template_columns": null,
            "grid_template_rows": null,
            "height": null,
            "justify_content": null,
            "justify_items": null,
            "left": null,
            "margin": null,
            "max_height": null,
            "max_width": null,
            "min_height": null,
            "min_width": null,
            "object_fit": null,
            "object_position": null,
            "order": null,
            "overflow": null,
            "overflow_x": null,
            "overflow_y": null,
            "padding": null,
            "right": null,
            "top": null,
            "visibility": null,
            "width": null
          }
        },
        "3f5cddee21234544a00856fdd67bc744": {
          "model_module": "@jupyter-widgets/base",
          "model_name": "LayoutModel",
          "model_module_version": "1.2.0",
          "state": {
            "_model_module": "@jupyter-widgets/base",
            "_model_module_version": "1.2.0",
            "_model_name": "LayoutModel",
            "_view_count": null,
            "_view_module": "@jupyter-widgets/base",
            "_view_module_version": "1.2.0",
            "_view_name": "LayoutView",
            "align_content": null,
            "align_items": null,
            "align_self": null,
            "border": null,
            "bottom": null,
            "display": null,
            "flex": null,
            "flex_flow": null,
            "grid_area": null,
            "grid_auto_columns": null,
            "grid_auto_flow": null,
            "grid_auto_rows": null,
            "grid_column": null,
            "grid_gap": null,
            "grid_row": null,
            "grid_template_areas": null,
            "grid_template_columns": null,
            "grid_template_rows": null,
            "height": null,
            "justify_content": null,
            "justify_items": null,
            "left": null,
            "margin": null,
            "max_height": null,
            "max_width": null,
            "min_height": null,
            "min_width": null,
            "object_fit": null,
            "object_position": null,
            "order": null,
            "overflow": null,
            "overflow_x": null,
            "overflow_y": null,
            "padding": null,
            "right": null,
            "top": null,
            "visibility": null,
            "width": null
          }
        },
        "e4d6e519d4754235b78a8894d63b210b": {
          "model_module": "@jupyter-widgets/controls",
          "model_name": "DescriptionStyleModel",
          "model_module_version": "1.5.0",
          "state": {
            "_model_module": "@jupyter-widgets/controls",
            "_model_module_version": "1.5.0",
            "_model_name": "DescriptionStyleModel",
            "_view_count": null,
            "_view_module": "@jupyter-widgets/base",
            "_view_module_version": "1.2.0",
            "_view_name": "StyleView",
            "description_width": ""
          }
        },
        "18031c5395ca43588ea66ebf11c8760d": {
          "model_module": "@jupyter-widgets/base",
          "model_name": "LayoutModel",
          "model_module_version": "1.2.0",
          "state": {
            "_model_module": "@jupyter-widgets/base",
            "_model_module_version": "1.2.0",
            "_model_name": "LayoutModel",
            "_view_count": null,
            "_view_module": "@jupyter-widgets/base",
            "_view_module_version": "1.2.0",
            "_view_name": "LayoutView",
            "align_content": null,
            "align_items": null,
            "align_self": null,
            "border": null,
            "bottom": null,
            "display": null,
            "flex": null,
            "flex_flow": null,
            "grid_area": null,
            "grid_auto_columns": null,
            "grid_auto_flow": null,
            "grid_auto_rows": null,
            "grid_column": null,
            "grid_gap": null,
            "grid_row": null,
            "grid_template_areas": null,
            "grid_template_columns": null,
            "grid_template_rows": null,
            "height": null,
            "justify_content": null,
            "justify_items": null,
            "left": null,
            "margin": null,
            "max_height": null,
            "max_width": null,
            "min_height": null,
            "min_width": null,
            "object_fit": null,
            "object_position": null,
            "order": null,
            "overflow": null,
            "overflow_x": null,
            "overflow_y": null,
            "padding": null,
            "right": null,
            "top": null,
            "visibility": null,
            "width": null
          }
        },
        "21651d1bba6b4d3ca1c7559bd2cdde14": {
          "model_module": "@jupyter-widgets/controls",
          "model_name": "ProgressStyleModel",
          "model_module_version": "1.5.0",
          "state": {
            "_model_module": "@jupyter-widgets/controls",
            "_model_module_version": "1.5.0",
            "_model_name": "ProgressStyleModel",
            "_view_count": null,
            "_view_module": "@jupyter-widgets/base",
            "_view_module_version": "1.2.0",
            "_view_name": "StyleView",
            "bar_color": null,
            "description_width": ""
          }
        },
        "408e44fda2284095bf0d32e3501ea3a3": {
          "model_module": "@jupyter-widgets/base",
          "model_name": "LayoutModel",
          "model_module_version": "1.2.0",
          "state": {
            "_model_module": "@jupyter-widgets/base",
            "_model_module_version": "1.2.0",
            "_model_name": "LayoutModel",
            "_view_count": null,
            "_view_module": "@jupyter-widgets/base",
            "_view_module_version": "1.2.0",
            "_view_name": "LayoutView",
            "align_content": null,
            "align_items": null,
            "align_self": null,
            "border": null,
            "bottom": null,
            "display": null,
            "flex": null,
            "flex_flow": null,
            "grid_area": null,
            "grid_auto_columns": null,
            "grid_auto_flow": null,
            "grid_auto_rows": null,
            "grid_column": null,
            "grid_gap": null,
            "grid_row": null,
            "grid_template_areas": null,
            "grid_template_columns": null,
            "grid_template_rows": null,
            "height": null,
            "justify_content": null,
            "justify_items": null,
            "left": null,
            "margin": null,
            "max_height": null,
            "max_width": null,
            "min_height": null,
            "min_width": null,
            "object_fit": null,
            "object_position": null,
            "order": null,
            "overflow": null,
            "overflow_x": null,
            "overflow_y": null,
            "padding": null,
            "right": null,
            "top": null,
            "visibility": null,
            "width": null
          }
        },
        "6708fd59212e457a9a1ebd09ccf58171": {
          "model_module": "@jupyter-widgets/controls",
          "model_name": "DescriptionStyleModel",
          "model_module_version": "1.5.0",
          "state": {
            "_model_module": "@jupyter-widgets/controls",
            "_model_module_version": "1.5.0",
            "_model_name": "DescriptionStyleModel",
            "_view_count": null,
            "_view_module": "@jupyter-widgets/base",
            "_view_module_version": "1.2.0",
            "_view_name": "StyleView",
            "description_width": ""
          }
        }
      }
    }
  },
  "nbformat": 4,
  "nbformat_minor": 0
}