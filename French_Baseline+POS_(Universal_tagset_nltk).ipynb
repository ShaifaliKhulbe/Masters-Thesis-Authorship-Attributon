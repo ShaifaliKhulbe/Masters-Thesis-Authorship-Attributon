{
  "nbformat": 4,
  "nbformat_minor": 0,
  "metadata": {
    "colab": {
      "provenance": [],
      "authorship_tag": "ABX9TyModRNlwqA0rB4UD7oSMd7o",
      "include_colab_link": true
    },
    "kernelspec": {
      "name": "python3",
      "display_name": "Python 3"
    },
    "language_info": {
      "name": "python"
    }
  },
  "cells": [
    {
      "cell_type": "markdown",
      "metadata": {
        "id": "view-in-github",
        "colab_type": "text"
      },
      "source": [
        "<a href=\"https://colab.research.google.com/github/ShaifaliKhulbe/Masters-Thesis-Authorship-Attributon/blob/main/French_Baseline%2BPOS_(Universal_tagset_nltk).ipynb\" target=\"_parent\"><img src=\"https://colab.research.google.com/assets/colab-badge.svg\" alt=\"Open In Colab\"/></a>"
      ]
    },
    {
      "cell_type": "code",
      "execution_count": null,
      "metadata": {
        "id": "pjwLdGubJpca"
      },
      "outputs": [],
      "source": [
        "import pandas as pd\n",
        "import numpy as np\n",
        "import nltk\n",
        "import collections\n",
        "from nltk import word_tokenize\n",
        "from nltk.util import ngrams\n",
        "from sklearn.feature_extraction.text import CountVectorizer\n",
        "from sklearn.model_selection import train_test_split, cross_val_score\n",
        "from sklearn.svm import SVC\n",
        "from collections import Counter\n",
        "from sklearn.metrics import accuracy_score, f1_score, precision_score, recall_score\n",
        "from sklearn.metrics import classification_report\n",
        "from sklearn.preprocessing import LabelEncoder\n",
        "from sklearn.preprocessing import StandardScaler\n",
        "nltk.download('punkt')\n",
        "nltk.download('averaged_perceptron_tagger')\n",
        "nltk.download('universal_tagset')"
      ]
    },
    {
      "cell_type": "code",
      "source": [
        "from nltk.corpus import stopwords\n",
        "nltk.download('stopwords')"
      ],
      "metadata": {
        "id": "RynHsDmXKfUa"
      },
      "execution_count": null,
      "outputs": []
    },
    {
      "cell_type": "markdown",
      "source": [
        "**Load Data**"
      ],
      "metadata": {
        "id": "JWL-aJ-Nl50r"
      }
    },
    {
      "cell_type": "code",
      "source": [
        "import nltk\n",
        "from itertools import chain\n",
        "from nltk.util import ngrams\n",
        "from collections import Counter\n",
        "\n",
        "# load data\n",
        "df = pd.read_csv('200_chunks_French.csv')\n",
        "test_df = pd.read_csv('Test_200_chunks_French.csv')\n"
      ],
      "metadata": {
        "id": "qqBlFU6SleV6"
      },
      "execution_count": null,
      "outputs": []
    },
    {
      "cell_type": "markdown",
      "source": [
        "**top N POS NGRAMs for each author**"
      ],
      "metadata": {
        "id": "HgUPt3Ntl_hW"
      }
    },
    {
      "cell_type": "code",
      "source": [
        "#define the dictionary to store all top ngrams for each author\n",
        "top_ngrams = {}\n",
        "\n",
        "#define the number of top pos ngrams to calculate\n",
        "num = 500 \n",
        "\n",
        "# calculate the pos ngrams for each author and store them in pos_ngrams_by_author\n",
        "for author in df['Author_name'].unique():\n",
        "    author_data = df[df['Author_name'] == author]\n",
        "    sentences = list(author_data['chunks'])\n",
        "\n",
        "    all_pos_1grams = []\n",
        "    all_pos_2grams = []\n",
        "    all_pos_3grams = []\n",
        "\n",
        "    for sentence in sentences:\n",
        "\n",
        "        # tokenize the sentence\n",
        "        tokens = nltk.word_tokenize(sentence, language='french') #TOKENIZER\n",
        "        # tag the tokens with POS tags\n",
        "        pos_tags = nltk.pos_tag(tokens, tagset='universal') #POS TAGGING\n",
        "\n",
        "        # create POS n-grams of size n\n",
        "        pos_unigram_list = ngrams([tag for _, tag in pos_tags], 1)\n",
        "        pos_bigram_list = ngrams([tag for _, tag in pos_tags], 2)\n",
        "        pos_trigram_list = ngrams([tag for _, tag in pos_tags], 3)\n",
        "\n",
        "        # add the POS n-grams to the list\n",
        "        all_pos_1grams.extend(pos_unigram_list)\n",
        "        all_pos_2grams.extend(pos_bigram_list)\n",
        "        all_pos_3grams.extend(pos_trigram_list)\n",
        "      \n",
        "  \n",
        "    # count the frequency of each POS n-gram\n",
        "    pos_1gram_counts = nltk.FreqDist(all_pos_1grams)\n",
        "    pos_2gram_counts = nltk.FreqDist(all_pos_2grams)\n",
        "    pos_3gram_counts = nltk.FreqDist(all_pos_3grams)\n",
        "    \n",
        "    # return the top num POS n-grams\n",
        "\n",
        "    top_unigrams= [ngram for ngram, count in pos_1gram_counts.most_common(num)]\n",
        "\n",
        "    top_bigrams= [ngram for ngram, count in pos_2gram_counts.most_common(num)]\n",
        "\n",
        "    top_trigrams= [ngram for ngram, count in pos_3gram_counts.most_common(num)]\n",
        "\n",
        "    top_ngrams[author] = top_trigrams + top_bigrams + top_unigrams\n",
        "\n",
        "#print(top_ngrams)"
      ],
      "metadata": {
        "id": "v5C66iSallN0"
      },
      "execution_count": null,
      "outputs": []
    },
    {
      "cell_type": "code",
      "source": [
        "# Find the name of the first key in the dictionary\n",
        "first_key = list(top_ngrams.keys())[0]\n",
        "\n",
        "# Initialize the common_values set using the first key\n",
        "common_ngrams = set(top_ngrams[first_key])\n",
        "\n",
        "for key in top_ngrams:\n",
        "    common_ngrams = common_ngrams.intersection(top_ngrams[key])\n",
        "\n",
        "print(len(common_ngrams))\n",
        "\n",
        "# Create a list of all values from all keys minus the common values\n",
        "all_ngrams = []\n",
        "\n",
        "for key in top_ngrams:\n",
        "    all_ngrams.extend(top_ngrams[key])\n",
        "    \n",
        "print(len(all_ngrams))\n",
        "\n",
        "not_common_ngrams = set(all_ngrams).difference(common_ngrams)\n",
        "not_common_ngrams_list = list(not_common_ngrams)\n"
      ],
      "metadata": {
        "colab": {
          "base_uri": "https://localhost:8080/"
        },
        "id": "Yrkth5JvlpAT",
        "outputId": "77625bea-3314-45ef-b0af-750232eb5795"
      },
      "execution_count": null,
      "outputs": [
        {
          "output_type": "stream",
          "name": "stdout",
          "text": [
            "505\n",
            "3148\n"
          ]
        }
      ]
    },
    {
      "cell_type": "code",
      "source": [
        "#Finding top 100 most frequent words\n",
        "def find_top_function_words(data, num):\n",
        "    \n",
        "    # tokenize each sentence and create a list of all words\n",
        "    words = []\n",
        "    for sentence in data['chunks']:\n",
        "        tokens = nltk.word_tokenize(sentence.lower(), language='french') #TOKENIZER\n",
        "        words.extend(tokens)\n",
        "\n",
        "    # count the frequency of each word in the entire CSV\n",
        "    word_freq = Counter(words)\n",
        "    \n",
        "    # sort the dictionary by frequency in descending order\n",
        "    sorted_word_freq = sorted(word_freq.items(), key=lambda x: x[1], reverse=True)\n",
        "\n",
        "    # extract the 100 most frequent stopwords\n",
        "    \n",
        "    top_stop_words = [word[0] for word in sorted_word_freq if word[0] in nltk.corpus.stopwords.words('french')][:100] #STOPWORDS\n",
        "\n",
        "    return top_stop_words\n",
        "       \n",
        "#NEW    \n",
        "top_function_words = find_top_function_words(df, 100)"
      ],
      "metadata": {
        "id": "1_TjO36Tlr5O"
      },
      "execution_count": null,
      "outputs": []
    },
    {
      "cell_type": "code",
      "source": [],
      "metadata": {
        "id": "RqPPhL-3luf3"
      },
      "execution_count": null,
      "outputs": []
    },
    {
      "cell_type": "code",
      "source": [
        "# define a function to create the feature vector for a given sentence\n",
        "def create_feature_vector(sentence):\n",
        "    # tokenize the sentence\n",
        "    tokens = nltk.word_tokenize(sentence, language='french') #TOKENIZER\n",
        "    \n",
        "    # tag the tokens with POS tags\n",
        "    pos_tags = nltk.pos_tag(tokens, tagset='universal') #POS TAGGING\n",
        "    \n",
        "    # create bigram, trigram, and four-gram POS sequences\n",
        "    unigram_pos_seqs = ngrams([tag for _, tag in pos_tags], 1)\n",
        "    bigram_pos_seqs = ngrams([tag for _, tag in pos_tags], 2)\n",
        "    trigram_pos_seqs = ngrams([tag for _, tag in pos_tags], 3)\n",
        "\n",
        "    # concatenate the three n-gram sequences into one\n",
        "    all_ngram_pos = chain(unigram_pos_seqs, bigram_pos_seqs, trigram_pos_seqs)\n",
        "\n",
        "    # create a list to store the counts of each n-gram in the not_common_ngrams_list\n",
        "    pos_counts = []\n",
        "\n",
        "    # concatenate the three n-gram sequences into one\n",
        "    all_ngram_pos = chain(unigram_pos_seqs, bigram_pos_seqs, trigram_pos_seqs)\n",
        "\n",
        "\n",
        "    # Converting all_ngram_pos to a list and printing the first 10 n-grams\n",
        "    all_ngrams_list = list(all_ngram_pos)\n",
        "\n",
        "\n",
        "    pos_counts = []\n",
        "    \n",
        "    for pos_ngram_list, top_pos_ngrams in zip([all_ngrams_list],\n",
        "                                              [not_common_ngrams_list]):\n",
        "        for pos_ngram in top_pos_ngrams:\n",
        "            count = 0\n",
        "            for top_pos in pos_ngram_list:\n",
        "                if pos_ngram == top_pos:\n",
        "                    count += 1\n",
        "            pos_counts.append(count)\n",
        "\n",
        "    \n",
        "    # Tokenize the sentence into lowercase words\n",
        "    tokens = nltk.word_tokenize(sentence.lower(), language='french') #TOKENIZER\n",
        "\n",
        "    # Count the occurrences of each word in the sentence\n",
        "    word_counts = Counter(tokens)\n",
        "\n",
        "    # Create a feature vector based on the number of occurrences of the top 100 stopwords\n",
        "    top_function_vector = []\n",
        "    for stop_word in top_function_words:\n",
        "        count = word_counts.get(stop_word, 0)\n",
        "        top_function_vector.append(count)\n",
        "           \n",
        "    # count the occurrences of each punctuation mark\n",
        "    punctuation_marks = ['.', ',', ';', ':', '?', '!', '«', '»', '-', '–', '—', '(', ')', '[', ']', '{', '}', '/', '\\\\', '...', \"'\", '\"']\n",
        "    \n",
        "    punctuation_counts = []\n",
        "    for mark in punctuation_marks:\n",
        "        count = sentence.count(mark)\n",
        "        punctuation_counts.append(count)\n",
        "\n",
        "    #feature_vector = punctuation_counts + top_function_vector + pos_counts\n",
        "\n",
        "    # create scaler objects for each feature type\n",
        "    punc_scaler = StandardScaler()\n",
        "    top_func_scaler = StandardScaler()\n",
        "    pos_scaler = StandardScaler()\n",
        "\n",
        "   # convert to NumPy arrays and reshape to have one column\n",
        "    punctuation_counts_reshaped = np.array(punctuation_counts).reshape(-1, 1)\n",
        "    top_function_vector_reshaped = np.array(top_function_vector).reshape(-1, 1)\n",
        "    pos_counts_reshaped = np.array(pos_counts).reshape(-1, 1)\n",
        "    \n",
        "    # fit and transform each feature type separately\n",
        "    punc_counts_scaled = punc_scaler.fit_transform(punctuation_counts_reshaped)\n",
        "    top_func_scaled = top_func_scaler.fit_transform(top_function_vector_reshaped)\n",
        "    pos_counts_scaled = pos_scaler.fit_transform(pos_counts_reshaped)\n",
        "    \n",
        "    # concatenate the scaled features\n",
        "    feature_vector = np.concatenate((punc_counts_scaled, top_func_scaled, pos_counts_scaled), axis=0)\n",
        "    \n",
        "    # convert back to a 1D array and return\n",
        "    return feature_vector.flatten()\n",
        "\n",
        "# create feature vectors for each sentence\n",
        "df['features'] = df['chunks'].apply(create_feature_vector)\n",
        "test_df['features'] = test_df['chunks'].apply(create_feature_vector)"
      ],
      "metadata": {
        "id": "pOY2BGmYo8oR"
      },
      "execution_count": null,
      "outputs": []
    },
    {
      "cell_type": "code",
      "source": [
        "len(test_df['features'][150])"
      ],
      "metadata": {
        "colab": {
          "base_uri": "https://localhost:8080/"
        },
        "id": "fT86ZDizKI3X",
        "outputId": "29b82241-4e21-4456-a4b9-36d42875f7f7"
      },
      "execution_count": null,
      "outputs": [
        {
          "output_type": "execute_result",
          "data": {
            "text/plain": [
              "400"
            ]
          },
          "metadata": {},
          "execution_count": 83
        }
      ]
    },
    {
      "cell_type": "code",
      "source": [
        "#X_train, X_test, y_train, y_test = train_test_split(df['features'], df['Author_name'], test_size=0.3, stratify=df['Author_name'], random_state=42)\n",
        "\n",
        "X_train = np.array(df['features'].tolist())\n",
        "X_test = np.array(test_df['features'].tolist())\n",
        "\n",
        "y_train = df['Author_name']\n",
        "y_test = test_df['Author_name']\n",
        "\n",
        "le = LabelEncoder()\n",
        "y_train_encoded = le.fit_transform(y_train)\n",
        "\n",
        "le = LabelEncoder()\n",
        "y_test_encoded = le.fit_transform(y_test)\n",
        "\n",
        "# create and train the SVM model\n",
        "svm = SVC(kernel='linear')\n",
        "svm.fit(X_train, y_train_encoded)\n",
        "\n",
        "# Make predictions on the test set and calculate evaluation metrics\n",
        "y_pred = svm.predict(X_test)\n",
        "accuracy = accuracy_score(y_test_encoded, y_pred)\n",
        "f1 = f1_score(y_test_encoded, y_pred, average='weighted')\n",
        "precision = precision_score(y_test_encoded, y_pred, average='weighted')\n",
        "recall = recall_score(y_test_encoded, y_pred, average='weighted')\n",
        "\n",
        "# Print evaluation metrics\n",
        "print(\"SVM accuracy:\", accuracy)\n",
        "print(\"SVM F1-score:\", f1)\n",
        "print(\"SVM Precision:\", precision)\n",
        "print(\"SVM Recall:\", recall)"
      ],
      "metadata": {
        "colab": {
          "base_uri": "https://localhost:8080/"
        },
        "id": "DggMbl2FKI5p",
        "outputId": "31eaae81-b190-43f4-9344-d51cc37c366f"
      },
      "execution_count": null,
      "outputs": [
        {
          "output_type": "stream",
          "name": "stdout",
          "text": [
            "SVM accuracy: 0.8847023360964582\n",
            "SVM F1-score: 0.8825391585773119\n",
            "SVM Precision: 0.8858277382624394\n",
            "SVM Recall: 0.8847023360964582\n"
          ]
        }
      ]
    },
    {
      "cell_type": "code",
      "source": [
        "print(classification_report(y_test_encoded, y_pred))"
      ],
      "metadata": {
        "colab": {
          "base_uri": "https://localhost:8080/"
        },
        "id": "VLp1KFYXKI-E",
        "outputId": "9dc3666e-66dc-417d-a8a6-779dd4545f58"
      },
      "execution_count": null,
      "outputs": [
        {
          "output_type": "stream",
          "name": "stdout",
          "text": [
            "              precision    recall  f1-score   support\n",
            "\n",
            "           0       0.88      0.85      0.86       567\n",
            "           1       0.59      0.81      0.68       237\n",
            "           2       0.95      0.87      0.91       736\n",
            "           3       0.29      0.16      0.21        91\n",
            "           4       0.97      1.00      0.98      1023\n",
            "\n",
            "    accuracy                           0.88      2654\n",
            "   macro avg       0.73      0.74      0.73      2654\n",
            "weighted avg       0.89      0.88      0.88      2654\n",
            "\n"
          ]
        }
      ]
    },
    {
      "cell_type": "markdown",
      "source": [
        "# num = 20 has the best scores"
      ],
      "metadata": {
        "id": "9WPQy3JdxPGX"
      }
    },
    {
      "cell_type": "code",
      "source": [
        "num = 500\n",
        "\n",
        "SVM accuracy: 0.8847023360964582\n",
        "SVM F1-score: 0.8825391585773119\n",
        "SVM Precision: 0.8858277382624394\n",
        "SVM Recall: 0.8847023360964582\n",
        "\n",
        "              precision    recall  f1-score   support\n",
        "\n",
        "           0       0.88      0.85      0.86       567\n",
        "           1       0.59      0.81      0.68       237\n",
        "           2       0.95      0.87      0.91       736\n",
        "           3       0.29      0.16      0.21        91\n",
        "           4       0.97      1.00      0.98      1023\n",
        "\n",
        "    accuracy                           0.88      2654\n",
        "   macro avg       0.73      0.74      0.73      2654\n",
        "weighted avg       0.89      0.88      0.88      2654\n",
        "\n",
        "\n",
        "num = 250\n",
        "\n",
        "SVM accuracy: 0.8700075357950263\n",
        "SVM F1-score: 0.8693775564898865\n",
        "SVM Precision: 0.8751643202875911\n",
        "SVM Recall: 0.8700075357950263\n",
        "\n",
        "num = 30\n",
        "\n",
        "SVM accuracy: 0.8869630746043707\n",
        "SVM F1-score: 0.8856245092582672\n",
        "SVM Precision: 0.8875315458640809\n",
        "SVM Recall: 0.8869630746043707\n",
        "\n",
        "\n",
        "              precision    recall  f1-score   support\n",
        "\n",
        "           0       0.89      0.87      0.88       567\n",
        "           1       0.62      0.79      0.70       237\n",
        "           2       0.94      0.86      0.90       736\n",
        "           3       0.27      0.20      0.23        91\n",
        "           4       0.97      1.00      0.98      1023\n",
        "\n",
        "    accuracy                           0.89      2654\n",
        "   macro avg       0.74      0.74      0.74      2654\n",
        "weighted avg       0.89      0.89      0.89      2654\n",
        "\n",
        "\n",
        "\n",
        "num = 15\n",
        "\n",
        "SVM accuracy: 0.8944988696307461\n",
        "SVM F1-score: 0.8913588454906688\n",
        "SVM Precision: 0.8924540985045486\n",
        "SVM Recall: 0.8944988696307461\n",
        "\n",
        "              precision    recall  f1-score   support\n",
        "\n",
        "           0       0.90      0.89      0.89       567\n",
        "           1       0.62      0.80      0.70       237\n",
        "           2       0.94      0.88      0.91       736\n",
        "           3       0.32      0.18      0.23        91\n",
        "           4       0.97      1.00      0.98      1023\n",
        "\n",
        "    accuracy                           0.89      2654\n",
        "   macro avg       0.75      0.75      0.74      2654\n",
        "weighted avg       0.89      0.89      0.89      2654\n",
        "\n",
        "\n",
        "num = 20\n",
        "\n",
        "SVM accuracy: 0.8937452901281085\n",
        "SVM F1-score: 0.891300001755393\n",
        "SVM Precision: 0.8931268021007299\n",
        "SVM Recall: 0.8937452901281085\n",
        "\n",
        "              precision    recall  f1-score   support\n",
        "\n",
        "           0       0.89      0.89      0.89       567\n",
        "           1       0.62      0.81      0.70       237\n",
        "           2       0.95      0.87      0.91       736\n",
        "           3       0.31      0.19      0.23        91\n",
        "           4       0.97      1.00      0.98      1023\n",
        "\n",
        "    accuracy                           0.89      2654\n",
        "   macro avg       0.75      0.75      0.74      2654\n",
        "weighted avg       0.89      0.89      0.89      2654\n",
        "\n",
        "\n",
        "\n",
        "\n",
        "num = 125\n",
        "\n",
        "SVM accuracy: 0.8703843255463452\n",
        "SVM F1-score: 0.8698806773574824\n",
        "SVM Precision: 0.8752445856367435\n",
        "SVM Recall: 0.8703843255463452\n",
        "\n",
        "              precision    recall  f1-score   support\n",
        "\n",
        "           0       0.89      0.85      0.87       567\n",
        "           1       0.56      0.77      0.65       237\n",
        "           2       0.94      0.83      0.88       736\n",
        "           3       0.20      0.14      0.17        91\n",
        "           4       0.95      1.00      0.97      1023\n",
        "\n",
        "    accuracy                           0.87      2654\n",
        "   macro avg       0.71      0.72      0.71      2654\n",
        "weighted avg       0.88      0.87      0.87      2654\n",
        "\n",
        "\n",
        "num = 60\n",
        "\n",
        "SVM accuracy: 0.8820648078372268\n",
        "SVM F1-score: 0.8792047159237686\n",
        "SVM Precision: 0.8808336584289712\n",
        "SVM Recall: 0.8820648078372268\n",
        "\n",
        "\n",
        "             precision    recall  f1-score   support\n",
        "\n",
        "           0       0.89      0.88      0.88       567\n",
        "           1       0.60      0.79      0.68       237\n",
        "           2       0.93      0.85      0.89       736\n",
        "           3       0.23      0.13      0.17        91\n",
        "           4       0.97      1.00      0.98      1023\n",
        "\n",
        "    accuracy                           0.88      2654\n",
        "   macro avg       0.72      0.73      0.72      2654\n",
        "weighted avg       0.88      0.88      0.88      2654\n",
        "\n",
        "\n",
        "\n",
        "\n",
        "num = 50\n",
        "\n",
        "SVM accuracy: 0.888093443858327\n",
        "SVM F1-score: 0.8845682514477369\n",
        "SVM Precision: 0.8849243876334492\n",
        "SVM Recall: 0.888093443858327\n",
        "\n",
        "              precision    recall  f1-score   support\n",
        "\n",
        "           0       0.89      0.89      0.89       567\n",
        "           1       0.61      0.80      0.69       237\n",
        "           2       0.93      0.87      0.90       736\n",
        "           3       0.20      0.11      0.14        91\n",
        "           4       0.97      1.00      0.98      1023\n",
        "\n",
        "    accuracy                           0.89      2654\n",
        "   macro avg       0.72      0.73      0.72      2654\n",
        "weighted avg       0.88      0.89      0.88      2654\n",
        "\n",
        "\n",
        "num = 100\n",
        "\n",
        "SVM accuracy: 0.8854559155990958\n",
        "SVM F1-score: 0.8838424335084509\n",
        "SVM Precision: 0.8869829158977004\n",
        "SVM Recall: 0.8854559155990958\n",
        "\n",
        "\n",
        "              precision    recall  f1-score   support\n",
        "\n",
        "           0       0.90      0.87      0.89       567\n",
        "           1       0.60      0.81      0.69       237\n",
        "           2       0.94      0.85      0.90       736\n",
        "           3       0.27      0.18      0.21        91\n",
        "           4       0.96      1.00      0.98      1023\n",
        "\n",
        "    accuracy                           0.89      2654\n",
        "   macro avg       0.73      0.74      0.73      2654\n",
        "weighted avg       0.89      0.89      0.88      2654\n",
        "\n",
        "num = 40\n",
        "\n",
        "SVM accuracy: 0.8888470233609645\n",
        "SVM F1-score: 0.8873166028424269\n",
        "SVM Precision: 0.890844985715929\n",
        "SVM Recall: 0.8888470233609645\n",
        "\n",
        "\n",
        "             precision    recall  f1-score   support\n",
        "\n",
        "           0       0.90      0.89      0.89       567\n",
        "           1       0.60      0.81      0.69       237\n",
        "           2       0.94      0.85      0.90       736\n",
        "           3       0.26      0.16      0.20        91\n",
        "           4       0.97      1.00      0.98      1023\n",
        "\n",
        "    accuracy                           0.89      2654\n",
        "   macro avg       0.74      0.74      0.73      2654\n",
        "weighted avg       0.89      0.89      0.89      2654\n",
        "\n",
        "\n",
        "num = 75\n",
        "\n",
        "SVM accuracy: 0.8794272795779955\n",
        "SVM F1-score: 0.8760996891274726\n",
        "SVM Precision: 0.8777521798591438\n",
        "SVM Recall: 0.8794272795779955\n",
        "\n",
        "              precision    recall  f1-score   support\n",
        "\n",
        "           0       0.88      0.85      0.87       567\n",
        "           1       0.61      0.81      0.70       237\n",
        "           2       0.93      0.85      0.89       736\n",
        "           3       0.22      0.12      0.15        91\n",
        "           4       0.96      1.00      0.98      1023\n",
        "\n",
        "    accuracy                           0.88      2654\n",
        "   macro avg       0.72      0.73      0.72      2654\n",
        "weighted avg       0.88      0.88      0.88      2654\n",
        "\n"
      ],
      "metadata": {
        "id": "pI980pKT3Oxs"
      },
      "execution_count": null,
      "outputs": []
    }
  ]
}