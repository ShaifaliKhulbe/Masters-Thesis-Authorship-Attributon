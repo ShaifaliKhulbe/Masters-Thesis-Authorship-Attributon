{
  "cells": [
    {
      "cell_type": "markdown",
      "metadata": {
        "id": "view-in-github",
        "colab_type": "text"
      },
      "source": [
        "<a href=\"https://colab.research.google.com/github/ShaifaliKhulbe/Masters-Thesis-Authorship-Attributon/blob/main/French_Baseline%2BPOS(TreeTagger).ipynb\" target=\"_parent\"><img src=\"https://colab.research.google.com/assets/colab-badge.svg\" alt=\"Open In Colab\"/></a>"
      ]
    },
    {
      "cell_type": "code",
      "source": [
        "!wget https://www.cis.uni-muenchen.de/~schmid/tools/TreeTagger/data/tree-tagger-linux-3.2.4.tar.gz\n",
        "!tar -xzf tree-tagger-linux-3.2.4.tar.gz\n",
        "!wget https://www.cis.uni-muenchen.de/~schmid/tools/TreeTagger/data/french.par.gz\n",
        "!gunzip french.par.gz"
      ],
      "metadata": {
        "id": "TVHYBvCQL56q"
      },
      "execution_count": null,
      "outputs": []
    },
    {
      "cell_type": "code",
      "source": [
        "!pip install treetaggerwrapper"
      ],
      "metadata": {
        "id": "L3rQVcunL_yl"
      },
      "execution_count": null,
      "outputs": []
    },
    {
      "cell_type": "code",
      "source": [
        "import treetaggerwrapper as ttw\n",
        "\n",
        "# Initialize the TreeTagger model for French\n",
        "fr_tagger = ttw.TreeTagger(TAGLANG='fr', TAGDIR='', TAGPARFILE='french.par')"
      ],
      "metadata": {
        "id": "memekJ5vMFsH"
      },
      "execution_count": null,
      "outputs": []
    },
    {
      "cell_type": "code",
      "source": [
        "sentence = \"Le chat mange une souris.\"\n",
        "tags = fr_tagger.tag_text(sentence)\n",
        "word = \"word\"\n",
        "tagged_sentence = [(word, tag.split('\\t')[-2]) for tag in tags]\n",
        "\n",
        "print(tags)\n",
        "print(tagged_sentence )"
      ],
      "metadata": {
        "colab": {
          "base_uri": "https://localhost:8080/"
        },
        "id": "u2YnH2aMMKgY",
        "outputId": "ceae9c5b-7577-4086-89c7-44cc926ae781"
      },
      "execution_count": null,
      "outputs": [
        {
          "output_type": "stream",
          "name": "stdout",
          "text": [
            "['Le\\tDET:ART\\tle', 'chat\\tNOM\\tchat', 'mange\\tVER:pres\\tmanger', 'une\\tDET:ART\\tun', 'souris\\tNOM\\tsouris', '.\\tSENT\\t.']\n",
            "[('word', 'DET:ART'), ('word', 'NOM'), ('word', 'VER:pres'), ('word', 'DET:ART'), ('word', 'NOM'), ('word', 'SENT')]\n"
          ]
        }
      ]
    },
    {
      "cell_type": "code",
      "execution_count": null,
      "metadata": {
        "colab": {
          "base_uri": "https://localhost:8080/"
        },
        "id": "pjwLdGubJpca",
        "outputId": "36739d6c-c20e-4c77-ed1b-6fa0cb011326"
      },
      "outputs": [
        {
          "output_type": "stream",
          "name": "stderr",
          "text": [
            "[nltk_data] Downloading package punkt to /root/nltk_data...\n",
            "[nltk_data]   Unzipping tokenizers/punkt.zip.\n",
            "[nltk_data] Downloading package averaged_perceptron_tagger to\n",
            "[nltk_data]     /root/nltk_data...\n",
            "[nltk_data]   Unzipping taggers/averaged_perceptron_tagger.zip.\n",
            "[nltk_data] Downloading package universal_tagset to /root/nltk_data...\n",
            "[nltk_data]   Unzipping taggers/universal_tagset.zip.\n"
          ]
        },
        {
          "output_type": "execute_result",
          "data": {
            "text/plain": [
              "True"
            ]
          },
          "metadata": {},
          "execution_count": 5
        }
      ],
      "source": [
        "import re\n",
        "import pandas as pd\n",
        "import numpy as np\n",
        "import nltk\n",
        "import collections\n",
        "from nltk import word_tokenize\n",
        "from nltk.util import ngrams\n",
        "from sklearn.feature_extraction.text import CountVectorizer\n",
        "from sklearn.model_selection import train_test_split, cross_val_score\n",
        "from sklearn.svm import SVC\n",
        "from collections import Counter\n",
        "from sklearn.metrics import accuracy_score, f1_score, precision_score, recall_score\n",
        "from sklearn.metrics import classification_report\n",
        "from sklearn.preprocessing import LabelEncoder\n",
        "from sklearn.preprocessing import StandardScaler\n",
        "nltk.download('punkt')\n",
        "nltk.download('averaged_perceptron_tagger')\n",
        "nltk.download('universal_tagset')"
      ]
    },
    {
      "cell_type": "code",
      "execution_count": null,
      "metadata": {
        "colab": {
          "base_uri": "https://localhost:8080/"
        },
        "id": "RynHsDmXKfUa",
        "outputId": "9539aa8e-19e5-45df-f15b-031d0300a2f9"
      },
      "outputs": [
        {
          "output_type": "stream",
          "name": "stderr",
          "text": [
            "[nltk_data] Downloading package stopwords to /root/nltk_data...\n",
            "[nltk_data]   Unzipping corpora/stopwords.zip.\n"
          ]
        },
        {
          "output_type": "execute_result",
          "data": {
            "text/plain": [
              "True"
            ]
          },
          "metadata": {},
          "execution_count": 6
        }
      ],
      "source": [
        "from nltk.corpus import stopwords\n",
        "nltk.download('stopwords')"
      ]
    },
    {
      "cell_type": "code",
      "execution_count": null,
      "metadata": {
        "colab": {
          "base_uri": "https://localhost:8080/"
        },
        "id": "pOY2BGmYo8oR",
        "outputId": "880c1f20-93d0-4dc5-a150-68b63d9b93e8"
      },
      "outputs": [
        {
          "output_type": "stream",
          "name": "stdout",
          "text": [
            "732\n",
            "5160\n"
          ]
        }
      ],
      "source": [
        "import nltk\n",
        "from itertools import chain\n",
        "from nltk.util import ngrams\n",
        "from collections import Counter\n",
        "\n",
        "# load data\n",
        "df = pd.read_csv('200_chunks_French.csv')\n",
        "test_df = pd.read_csv('Test_200_chunks_French.csv')\n",
        "\n",
        "#define the dictionary to store all top ngrams for each author\n",
        "top_ngrams = {}\n",
        "\n",
        "#define the number of top pos ngrams to calculate\n",
        "num = 500\n",
        "\n",
        "# calculate the pos ngrams for each author and store them in pos_ngrams_by_author\n",
        "for author in df['Author_name'].unique():\n",
        "    author_data = df[df['Author_name'] == author]\n",
        "    sentences = list(author_data['chunks'])\n",
        "\n",
        "    all_pos_1grams = []\n",
        "    all_pos_2grams = []\n",
        "    all_pos_3grams = []\n",
        "\n",
        "    for sentence in sentences:\n",
        "\n",
        "        # tokenize the sentence\n",
        "        #tokens = nltk.word_tokenize(sentence, language='french')\n",
        "        tokens = nltk.word_tokenize(sentence.lower(), language='french')\n",
        "        #print(tokens)\n",
        "        sentence = \" \".join(tokens)\n",
        "        #print(sentence)\n",
        "        tags = fr_tagger.tag_text(sentence)\n",
        "        #print(tags)\n",
        "        word = \"word\"\n",
        "        #tagged_sentence = [(word, tag.split('\\t')[-2]) for tag in tags]\n",
        "        tagged_sentence = [(word, tag.split('\\t')[-2]) for tag in tags if len(tag.split('\\t')) >= 2]\n",
        "\n",
        "\n",
        "        pos_tags = tagged_sentence\n",
        "\n",
        "        # create POS n-grams of size n\n",
        "        pos_unigram_list = ngrams([tag for _, tag in pos_tags], 1)\n",
        "        pos_bigram_list = ngrams([tag for _, tag in pos_tags], 2)\n",
        "        pos_trigram_list = ngrams([tag for _, tag in pos_tags], 3)\n",
        "\n",
        "        #print(pos_bigram_list)\n",
        "\n",
        "        # add the POS n-grams to the list\n",
        "        all_pos_1grams.extend(pos_unigram_list)\n",
        "        all_pos_2grams.extend(pos_bigram_list)\n",
        "        all_pos_3grams.extend(pos_trigram_list)\n",
        "      \n",
        "  \n",
        "    # count the frequency of each POS n-gramert\n",
        "    pos_1gram_counts = nltk.FreqDist(all_pos_1grams)\n",
        "    pos_2gram_counts = nltk.FreqDist(all_pos_2grams)\n",
        "    pos_3gram_counts = nltk.FreqDist(all_pos_3grams)\n",
        "    \n",
        "    # return the top num POS n-grams\n",
        "\n",
        "    top_unigrams= [ngram for ngram, count in pos_1gram_counts.most_common(num)]\n",
        "\n",
        "    top_bigrams= [ngram for ngram, count in pos_2gram_counts.most_common(num)]\n",
        "\n",
        "    top_trigrams= [ngram for ngram, count in pos_3gram_counts.most_common(num)]\n",
        "\n",
        "    top_ngrams[author] = top_trigrams + top_bigrams + top_unigrams\n",
        "\n",
        "#print(top_ngrams)\n",
        "\n",
        "# Find the name of the first key in the dictionary\n",
        "first_key = list(top_ngrams.keys())[0]\n",
        "\n",
        "# Initialize the common_values set using the first key\n",
        "common_ngrams = set(top_ngrams[first_key])\n",
        "\n",
        "for key in top_ngrams:\n",
        "    common_ngrams = common_ngrams.intersection(top_ngrams[key])\n",
        "\n",
        "print(len(common_ngrams))\n",
        "\n",
        "# Create a list of all values from all keys minus the common values\n",
        "all_ngrams = []\n",
        "\n",
        "for key in top_ngrams:\n",
        "    all_ngrams.extend(top_ngrams[key])\n",
        "    \n",
        "print(len(all_ngrams))\n",
        "\n",
        "not_common_ngrams = set(all_ngrams).difference(common_ngrams)\n",
        "not_common_ngrams_list = list(not_common_ngrams)\n",
        "\n",
        "\n",
        "#Finding top 100 most frequent words\n",
        "def find_top_function_words(data, num):\n",
        "    \n",
        "    # tokenize each sentence and create a list of all words\n",
        "    words = []\n",
        "    for sentence in data['chunks']:\n",
        "        tokens = nltk.word_tokenize(sentence.lower(), language='french')\n",
        "        words.extend(tokens)\n",
        "\n",
        "    # count the frequency of each word in the entire CSV\n",
        "    word_freq = Counter(words)\n",
        "    \n",
        "    # sort the dictionary by frequency in descending order\n",
        "    sorted_word_freq = sorted(word_freq.items(), key=lambda x: x[1], reverse=True)\n",
        "\n",
        "    # extract the 100 most frequent stopwords\n",
        "    \n",
        "    top_stop_words = [word[0] for word in sorted_word_freq if word[0] in nltk.corpus.stopwords.words('french')][:100]\n",
        "\n",
        "    return top_stop_words\n",
        "       \n",
        "#NEW    \n",
        "top_function_words = find_top_function_words(df, 100)\n",
        "\n",
        "# define a function to create the feature vector for a given sentence\n",
        "def create_feature_vector(sentence):\n",
        "\n",
        "    tokens = nltk.word_tokenize(sentence.lower(), language='french')\n",
        "    #print(tokens)\n",
        "    sentence = \" \".join(tokens)\n",
        "    \n",
        "    # tag the sentence with POS tags\n",
        "    tags = fr_tagger.tag_text(sentence)\n",
        "    word = \"word\"\n",
        "    tagged_sentence = [(word, tag.split('\\t')[-2]) for tag in tags if len(tag.split('\\t')) >= 2]\n",
        "\n",
        "    pos_tags = tagged_sentence\n",
        "    \n",
        "    # create bigram, trigram, and four-gram POS sequences\n",
        "    unigram_pos_seqs = ngrams([tag for _, tag in pos_tags], 1)\n",
        "    bigram_pos_seqs = ngrams([tag for _, tag in pos_tags], 2)\n",
        "    trigram_pos_seqs = ngrams([tag for _, tag in pos_tags], 3)\n",
        "\n",
        "    # concatenate the three n-gram sequences into one\n",
        "    all_ngram_pos = chain(unigram_pos_seqs, bigram_pos_seqs, trigram_pos_seqs)\n",
        "\n",
        "    # create a list to store the counts of each n-gram in the not_common_ngrams_list\n",
        "    pos_counts = []\n",
        "\n",
        "    # Converting all_ngram_pos to a list and printing the first 10 n-grams\n",
        "    all_ngrams_list = list(all_ngram_pos)\n",
        "\n",
        "    pos_counts = []\n",
        "    \n",
        "    for pos_ngram_list, top_pos_ngrams in zip([all_ngrams_list],\n",
        "                                              [not_common_ngrams_list]):\n",
        "        for pos_ngram in top_pos_ngrams:\n",
        "            count = 0\n",
        "            for top_pos in pos_ngram_list:\n",
        "                if pos_ngram == top_pos:\n",
        "                    count += 1\n",
        "            pos_counts.append(count)\n",
        "\n",
        "    # Tokenize the sentence into lowercase words\n",
        "    tokens = nltk.word_tokenize(sentence.lower(), language='french')\n",
        "\n",
        "    # Count the occurrences of each word in the sentence\n",
        "    word_counts = Counter(tokens)\n",
        "\n",
        "    # Create a feature vector based on the number of occurrences of the top 100 stopwords\n",
        "    top_function_vector = []\n",
        "    for stop_word in top_function_words:\n",
        "        count = word_counts.get(stop_word, 0)\n",
        "        top_function_vector.append(count)\n",
        "           \n",
        "    # count the occurrences of each punctuation mark\n",
        "    punctuation_marks = ['.', ',', ';', ':', '?', '!', '«', '»', '-', '–', '—', '(', ')', '[', ']', '{', '}', '/', '\\\\', '...', \"'\", '\"']\n",
        "    \n",
        "    punctuation_counts = []\n",
        "    for mark in punctuation_marks:\n",
        "        count = sentence.count(mark)\n",
        "        punctuation_counts.append(count)\n",
        "\n",
        "    # create scaler objects for each feature type\n",
        "    punc_scaler = StandardScaler()\n",
        "    top_func_scaler = StandardScaler()\n",
        "    pos_scaler = StandardScaler()\n",
        "\n",
        "   # convert to NumPy arrays and reshape to have one column\n",
        "    punctuation_counts_reshaped = np.array(punctuation_counts).reshape(-1, 1)\n",
        "    top_function_vector_reshaped = np.array(top_function_vector).reshape(-1, 1)\n",
        "    pos_counts_reshaped = np.array(pos_counts).reshape(-1, 1)\n",
        "    \n",
        "    # fit and transform each feature type separately\n",
        "    punc_counts_scaled = punc_scaler.fit_transform(punctuation_counts_reshaped)\n",
        "    top_func_scaled = top_func_scaler.fit_transform(top_function_vector_reshaped)\n",
        "    pos_counts_scaled = pos_scaler.fit_transform(pos_counts_reshaped)\n",
        "    \n",
        "    # concatenate the scaled features\n",
        "    feature_vector = np.concatenate((punc_counts_scaled, top_func_scaled, pos_counts_scaled), axis=0)\n",
        "    \n",
        "    # convert back to a 1D array and return\n",
        "    return feature_vector.flatten()\n",
        "\n",
        "# create feature vectors for each sentence\n",
        "df['features'] = df['chunks'].apply(create_feature_vector)\n",
        "test_df['features'] = test_df['chunks'].apply(create_feature_vector)"
      ]
    },
    {
      "cell_type": "code",
      "execution_count": null,
      "metadata": {
        "colab": {
          "base_uri": "https://localhost:8080/"
        },
        "id": "fT86ZDizKI3X",
        "outputId": "fe13c1bf-e385-4bc0-f5eb-6179a1d2ca19"
      },
      "outputs": [
        {
          "output_type": "execute_result",
          "data": {
            "text/plain": [
              "809"
            ]
          },
          "metadata": {},
          "execution_count": 55
        }
      ],
      "source": [
        "len(test_df['features'][150]) #157, num = 20"
      ]
    },
    {
      "cell_type": "code",
      "execution_count": null,
      "metadata": {
        "colab": {
          "base_uri": "https://localhost:8080/"
        },
        "id": "DggMbl2FKI5p",
        "outputId": "eda45631-9ab1-4877-96f8-90050ccf771d"
      },
      "outputs": [
        {
          "output_type": "stream",
          "name": "stdout",
          "text": [
            "SVM accuracy: 0.875282592313489\n",
            "SVM F1-score: 0.873417421766704\n",
            "SVM Precision: 0.8814976080509493\n",
            "SVM Recall: 0.875282592313489\n"
          ]
        }
      ],
      "source": [
        "\n",
        "X_train = np.array(df['features'].tolist())\n",
        "X_test = np.array(test_df['features'].tolist())\n",
        "\n",
        "y_train = df['Author_name']\n",
        "y_test = test_df['Author_name']\n",
        "\n",
        "le = LabelEncoder()\n",
        "y_train_encoded = le.fit_transform(y_train)\n",
        "\n",
        "le = LabelEncoder()\n",
        "y_test_encoded = le.fit_transform(y_test)\n",
        "\n",
        "# create and train the SVM model\n",
        "svm = SVC(kernel='linear')\n",
        "svm.fit(X_train, y_train_encoded)\n",
        "\n",
        "# Make predictions on the test set and calculate evaluation metrics\n",
        "y_pred = svm.predict(X_test)\n",
        "accuracy = accuracy_score(y_test_encoded, y_pred)\n",
        "f1 = f1_score(y_test_encoded, y_pred, average='weighted')\n",
        "precision = precision_score(y_test_encoded, y_pred, average='weighted')\n",
        "recall = recall_score(y_test_encoded, y_pred, average='weighted')\n",
        "\n",
        "# Print evaluation metrics\n",
        "print(\"SVM accuracy:\", accuracy)\n",
        "print(\"SVM F1-score:\", f1)\n",
        "print(\"SVM Precision:\", precision)\n",
        "print(\"SVM Recall:\", recall)"
      ]
    },
    {
      "cell_type": "code",
      "execution_count": null,
      "metadata": {
        "colab": {
          "base_uri": "https://localhost:8080/"
        },
        "id": "VLp1KFYXKI-E",
        "outputId": "eb03e422-3b17-4f4d-e038-50350158fdda"
      },
      "outputs": [
        {
          "output_type": "stream",
          "name": "stdout",
          "text": [
            "              precision    recall  f1-score   support\n",
            "\n",
            "           0       0.85      0.92      0.88       567\n",
            "           1       0.59      0.83      0.69       237\n",
            "           2       0.96      0.78      0.86       736\n",
            "           3       0.18      0.12      0.14        91\n",
            "           4       0.97      1.00      0.98      1023\n",
            "\n",
            "    accuracy                           0.88      2654\n",
            "   macro avg       0.71      0.73      0.71      2654\n",
            "weighted avg       0.88      0.88      0.87      2654\n",
            "\n"
          ]
        }
      ],
      "source": [
        "print(classification_report(y_test_encoded, y_pred))"
      ]
    },
    {
      "cell_type": "markdown",
      "source": [
        "num = 30 has the highest F1-score"
      ],
      "metadata": {
        "id": "lYiYZhC8xgNA"
      }
    },
    {
      "cell_type": "code",
      "source": [
        "new data results\n",
        "\n",
        "num = 500\n",
        "\n",
        "SVM accuracy: 0.875282592313489\n",
        "SVM F1-score: 0.873417421766704\n",
        "SVM Precision: 0.8814976080509493\n",
        "SVM Recall: 0.875282592313489\n",
        "\n",
        "\n",
        "              precision    recall  f1-score   support\n",
        "\n",
        "           0       0.85      0.92      0.88       567\n",
        "           1       0.59      0.83      0.69       237\n",
        "           2       0.96      0.78      0.86       736\n",
        "           3       0.18      0.12      0.14        91\n",
        "           4       0.97      1.00      0.98      1023\n",
        "\n",
        "    accuracy                           0.88      2654\n",
        "   macro avg       0.71      0.73      0.71      2654\n",
        "weighted avg       0.88      0.88      0.87      2654\n",
        "\n",
        "\n",
        "num = 275\n",
        "\n",
        "SVM accuracy: 0.8854559155990958\n",
        "SVM F1-score: 0.8832005273843508\n",
        "SVM Precision: 0.8847160458512161\n",
        "SVM Recall: 0.8854559155990958\n",
        "\n",
        "              precision    recall  f1-score   support\n",
        "\n",
        "           0       0.87      0.93      0.90       567\n",
        "           1       0.65      0.78      0.71       237\n",
        "           2       0.94      0.83      0.88       736\n",
        "           3       0.16      0.12      0.14        91\n",
        "           4       0.97      0.99      0.98      1023\n",
        "\n",
        "    accuracy                           0.89      2654\n",
        "   macro avg       0.72      0.73      0.72      2654\n",
        "weighted avg       0.88      0.89      0.88      2654\n",
        "\n",
        "\n",
        "\n",
        "\n",
        "num = 175\n",
        "\n",
        "SVM accuracy: 0.8824415975885456\n",
        "SVM F1-score: 0.8806296004044946\n",
        "SVM Precision: 0.8853375741074092\n",
        "SVM Recall: 0.8824415975885456\n",
        "\n",
        "\n",
        "\n",
        "num = 20 (after 85)\n",
        "\n",
        "SVM accuracy: 0.8888470233609645\n",
        "SVM F1-score: 0.886014380534335\n",
        "SVM Precision: 0.887165156296506\n",
        "SVM Recall: 0.8888470233609645\n",
        "\n",
        "              precision    recall  f1-score   support\n",
        "\n",
        "           0       0.89      0.87      0.88       567\n",
        "           1       0.61      0.78      0.69       237\n",
        "           2       0.96      0.88      0.92       736\n",
        "           3       0.18      0.11      0.14        91\n",
        "           4       0.96      1.00      0.98      1023\n",
        "\n",
        "    accuracy                           0.89      2654\n",
        "   macro avg       0.72      0.73      0.72      2654\n",
        "weighted avg       0.89      0.89      0.89      2654\n",
        "\n",
        "\n",
        "num = 85\n",
        "\n",
        "\n",
        "SVM accuracy: 0.8926149208741522\n",
        "SVM F1-score: 0.888037879075729\n",
        "SVM Precision: 0.8888273480106591\n",
        "SVM Recall: 0.8926149208741522\n",
        "\n",
        "              precision    recall  f1-score   support\n",
        "\n",
        "           0       0.89      0.93      0.91       567\n",
        "           1       0.63      0.81      0.71       237\n",
        "           2       0.96      0.85      0.90       736\n",
        "           3       0.17      0.09      0.12        91\n",
        "           4       0.96      0.99      0.98      1023\n",
        "\n",
        "    accuracy                           0.89      2654\n",
        "   macro avg       0.72      0.74      0.72      2654\n",
        "weighted avg       0.89      0.89      0.89      2654\n",
        "\n",
        "num = 100\n",
        "\n",
        "SVM accuracy: 0.8809344385832706\n",
        "SVM F1-score: 0.878672804377986\n",
        "SVM Precision: 0.8832745489341437\n",
        "SVM Recall: 0.8809344385832706\n",
        "\n",
        "             precision    recall  f1-score   support\n",
        "\n",
        "           0       0.89      0.92      0.91       567\n",
        "           1       0.57      0.79      0.66       237\n",
        "           2       0.96      0.82      0.89       736\n",
        "           3       0.19      0.11      0.14        91\n",
        "           4       0.96      0.99      0.97      1023\n",
        "\n",
        "    accuracy                           0.88      2654\n",
        "   macro avg       0.71      0.73      0.71      2654\n",
        "weighted avg       0.88      0.88      0.88      2654\n",
        "\n",
        "\n",
        "num = 50\n",
        "\n",
        "SVM accuracy: 0.880180859080633\n",
        "SVM F1-score: 0.8769756712718951\n",
        "SVM Precision: 0.8781860537659741\n",
        "SVM Recall: 0.880180859080633\n",
        "\n",
        "             precision    recall  f1-score   support\n",
        "\n",
        "           0       0.89      0.89      0.89       567\n",
        "           1       0.59      0.76      0.66       237\n",
        "           2       0.95      0.85      0.90       736\n",
        "           3       0.17      0.10      0.12        91\n",
        "           4       0.95      0.99      0.97      1023\n",
        "\n",
        "    accuracy                           0.88      2654\n",
        "   macro avg       0.71      0.72      0.71      2654\n",
        "weighted avg       0.88      0.88      0.88      2654\n",
        "\n",
        "num = 30\n",
        "\n",
        "SVM accuracy: 0.8922381311228335\n",
        "SVM F1-score: 0.8894736390828393\n",
        "SVM Precision: 0.891665348954981\n",
        "SVM Recall: 0.8922381311228335\n",
        "\n",
        "              precision    recall  f1-score   support\n",
        "\n",
        "           0       0.90      0.90      0.90       567\n",
        "           1       0.63      0.84      0.72       237\n",
        "           2       0.95      0.85      0.90       736\n",
        "           3       0.21      0.13      0.16        91\n",
        "           4       0.96      1.00      0.98      1023\n",
        "\n",
        "    accuracy                           0.89      2654\n",
        "   macro avg       0.73      0.74      0.73      2654\n",
        "weighted avg       0.89      0.89      0.89      2654\n",
        "\n",
        "num = 40\n",
        "\n",
        "SVM accuracy: 0.881688018085908\n",
        "SVM F1-score: 0.8786252754981624\n",
        "SVM Precision: 0.880210959768536\n",
        "SVM Recall: 0.881688018085908\n",
        "\n",
        "              precision    recall  f1-score   support\n",
        "\n",
        "           0       0.91      0.89      0.90       567\n",
        "           1       0.61      0.78      0.69       237\n",
        "           2       0.95      0.85      0.90       736\n",
        "           3       0.14      0.09      0.11        91\n",
        "           4       0.94      1.00      0.97      1023\n",
        "\n",
        "    accuracy                           0.88      2654\n",
        "   macro avg       0.71      0.72      0.71      2654\n",
        "weighted avg       0.88      0.88      0.88      2654\n",
        "\n",
        "\n",
        "num = 75\n",
        "\n",
        "SVM accuracy: 0.8854559155990958\n",
        "SVM F1-score: 0.880286699460209\n",
        "SVM Precision: 0.8820386115811552\n",
        "SVM Recall: 0.8854559155990958\n",
        "\n",
        "              precision    recall  f1-score   support\n",
        "\n",
        "           0       0.88      0.91      0.90       567\n",
        "           1       0.60      0.79      0.68       237\n",
        "           2       0.97      0.84      0.90       736\n",
        "           3       0.21      0.09      0.12        91\n",
        "           4       0.95      1.00      0.97      1023\n",
        "\n",
        "    accuracy                           0.89      2654\n",
        "   macro avg       0.72      0.73      0.71      2654\n",
        "weighted avg       0.88      0.89      0.88      2654\n",
        "\n"
      ],
      "metadata": {
        "id": "vdNg5AQyWkph"
      },
      "execution_count": null,
      "outputs": []
    }
  ],
  "metadata": {
    "colab": {
      "provenance": [],
      "authorship_tag": "ABX9TyPHQ0ddW29z+tr/M3E8Dq+k",
      "include_colab_link": true
    },
    "kernelspec": {
      "display_name": "Python 3",
      "name": "python3"
    },
    "language_info": {
      "name": "python"
    }
  },
  "nbformat": 4,
  "nbformat_minor": 0
}