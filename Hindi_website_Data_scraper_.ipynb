{
 "cells": [
  {
   "cell_type": "code",
   "execution_count": null,
   "metadata": {
    "id": "uIlMVEptQ9pS"
   },
   "outputs": [],
   "source": [
    "import requests\n",
    "import bs4\n",
    "import os\n",
    "from requests.exceptions import MissingSchema\n",
    "import itertools\n",
    "\n",
    "\n",
    "response = requests.get(\"https://hindisamay.com/content.aspx?id=1\")\n",
    "html = response.text\n",
    "\n",
    "soup = bs4.BeautifulSoup(html, \"lxml\") # This turns the HTML string `html` into a parsed HTML object\n",
    "\n",
    "#for link in soup.find_all(\"a\"):\n",
    "#    print(link[\"href\"])"
   ]
  },
  {
   "cell_type": "code",
   "execution_count": null,
   "metadata": {
    "colab": {
     "base_uri": "https://localhost:8080/"
    },
    "id": "Za2ejaHoRGRd",
    "outputId": "606253fe-ce49-4029-f964-b0f9a92b8892"
   },
   "outputs": [
    {
     "name": "stdout",
     "output_type": "stream",
     "text": [
      "http://www.hindisamay.com/writer/.cspx?id=0&name=\n",
      "    \n",
      "\n",
      "http://www.hindisamay.com/writer/.cspx?id=1226&name=\n",
      "    \n",
      "\n",
      "http://www.hindisamay.com/writer/अज्ञेय.cspx?id=1275&name=अज्ञेय\n",
      "  अज्ञेय  \n",
      "\n",
      "http://www.hindisamay.com/writer/अद्वैत-मल्लबर्मन.cspx?id=2863&name=अद्वैत-मल्लबर्मन\n",
      "  अद्वैत मल्लबर्मन  \n",
      "\n",
      "http://www.hindisamay.com/writer/अनवर-सुहैल.cspx?id=71&name=अनवर-सुहैल\n",
      "  अनवर सुहैल  \n",
      "\n",
      "http://www.hindisamay.com/writer/अयोध्या-सिंह-उपाध्याय-हरिऔध-.cspx?id=1162&name=अयोध्या-सिंह-उपाध्याय-हरिऔध-\n",
      "  अयोध्या सिंह उपाध्याय हरिऔध   \n",
      "\n",
      "http://www.hindisamay.com/writer/असग़र-वजाहत.cspx?id=41&name=असग़र-वजाहत\n",
      "  असग़र वजाहत  \n",
      "\n",
      "http://www.hindisamay.com/writer/इंदिरा-गोस्वामी.cspx?id=1385&name=इंदिरा-गोस्वामी\n",
      "  इंदिरा गोस्वामी  \n",
      "\n",
      "http://www.hindisamay.com/writer/इबोहल-सिंह-काङ्जम.cspx?id=2350&name=इबोहल-सिंह-काङ्जम\n",
      "  इबोहल सिंह काङ्जम  \n",
      "\n",
      "http://www.hindisamay.com/writer/इवान-तुर्गनेव.cspx?id=1958&name=इवान-तुर्गनेव\n",
      "  इवान तुर्गनेव  \n",
      "\n",
      "http://www.hindisamay.com/writer/ईश्वरी-प्रसाद,-कल्याण-राय.cspx?id=1996&name=ईश्वरी-प्रसाद,-कल्याण-राय\n",
      "  ईश्वरी प्रसाद, कल्याण राय  \n",
      "\n",
      "http://www.hindisamay.com/writer/उषा-किरण-खान.cspx?id=744&name=उषा-किरण-खान\n",
      "  उषा किरण खान  \n",
      "\n",
      "http://www.hindisamay.com/writer/ए.-असफल.cspx?id=2407&name=ए.-असफल\n",
      "  ए. असफल  \n",
      "\n",
      "http://www.hindisamay.com/writer/कृशन-चंदर.cspx?id=1180&name=कृशन-चंदर\n",
      "  कृशन चंदर  \n",
      "\n",
      "http://www.hindisamay.com/writer/कृष्णदत्त-पालीवाल.cspx?id=97&name=कृष्णदत्त-पालीवाल\n",
      "  कृष्णदत्त पालीवाल  \n",
      "\n",
      "http://www.hindisamay.com/writer/जयनंदन.cspx?id=155&name=जयनंदन\n",
      "  जयनंदन  \n",
      "\n",
      "http://www.hindisamay.com/writer/जयशंकर-प्रसाद.cspx?id=1176&name=जयशंकर-प्रसाद\n",
      "  जयशंकर प्रसाद  \n",
      "\n",
      "http://www.hindisamay.com/writer/जयश्री-दत्त.cspx?id=1991&name=जयश्री-दत्त\n",
      "  जयश्री दत्त  \n",
      "\n",
      "http://www.hindisamay.com/writer/जयश्री-रॉय.cspx?id=1893&name=जयश्री-रॉय\n",
      "  जयश्री रॉय  \n",
      "\n",
      "http://www.hindisamay.com/writer/जितेंद्र-विसारिया.cspx?id=2135&name=जितेंद्र-विसारिया\n",
      "  जितेंद्र विसारिया  \n",
      "\n",
      "http://www.hindisamay.com/writer/ठाकुर-जगन्मोहन-सिंह.cspx?id=1723&name=ठाकुर-जगन्मोहन-सिंह\n",
      "  ठाकुर जगन्मोहन सिंह  \n",
      "\n",
      "http://www.hindisamay.com/writer/तुफ़ैल-चतुर्वेदी.cspx?id=2132&name=तुफ़ैल-चतुर्वेदी\n",
      "  तुफ़ैल चतुर्वेदी  \n",
      "\n",
      "http://www.hindisamay.com/writer/दिनेश-द्विवेदी.cspx?id=1386&name=दिनेश-द्विवेदी\n",
      "  दिनेश द्विवेदी  \n",
      "\n",
      "http://www.hindisamay.com/writer/देवकीनंदन-खत्री-.cspx?id=1167&name=देवकीनंदन-खत्री-\n",
      "  देवकीनंदन खत्री   \n",
      "\n",
      "http://www.hindisamay.com/writer/धर्मवीर-भारती-.cspx?id=1249&name=धर्मवीर-भारती-\n",
      "  धर्मवीर भारती   \n",
      "\n",
      "http://www.hindisamay.com/writer/नरेश-नदीम.cspx?id=1865&name=नरेश-नदीम\n",
      "  नरेश नदीम  \n",
      "\n",
      "http://www.hindisamay.com/writer/नीना-पॉल.cspx?id=2845&name=नीना-पॉल\n",
      "  नीना पॉल  \n",
      "\n",
      "http://www.hindisamay.com/writer/पुष्यमित्र.cspx?id=2956&name=पुष्यमित्र\n",
      "  पुष्यमित्र  \n",
      "\n",
      "http://www.hindisamay.com/writer/प्रेमचंद-.cspx?id=1152&name=प्रेमचंद-\n",
      "  प्रेमचंद   \n",
      "\n",
      "http://www.hindisamay.com/writer/प्रेमचंद-सहजवाला.cspx?id=1731&name=प्रेमचंद-सहजवाला\n",
      "  प्रेमचंद सहजवाला  \n",
      "\n",
      "http://www.hindisamay.com/writer/फ्योदोर-दोस्तोयेव्स्की.cspx?id=1864&name=फ्योदोर-दोस्तोयेव्स्की\n",
      "  फ्योदोर दोस्तोयेव्स्की  \n",
      "\n",
      "http://www.hindisamay.com/writer/बंकिम-चन्द्र-चट्टोपाध्याय.cspx?id=1463&name=बंकिम-चन्द्र-चट्टोपाध्याय\n",
      "  बंकिम चन्द्र चट्टोपाध्याय  \n",
      "\n",
      "http://www.hindisamay.com/writer/भैरव-प्रसाद-गुप्त.cspx?id=1165&name=भैरव-प्रसाद-गुप्त\n",
      "  भैरव प्रसाद गुप्त  \n",
      "\n",
      "http://www.hindisamay.com/writer/मधु-कांकरिया.cspx?id=263&name=मधु-कांकरिया\n",
      "  मधु कांकरिया  \n",
      "\n",
      "http://www.hindisamay.com/writer/मनीषा-कुलश्रेष्ठ-.cspx?id=1147&name=मनीषा-कुलश्रेष्ठ-\n",
      "  मनीषा कुलश्रेष्ठ   \n",
      "\n",
      "http://www.hindisamay.com/writer/मुश्ताक़-अहमद-यूसुफ़ी.cspx?id=2127&name=मुश्ताक़-अहमद-यूसुफ़ी\n",
      "  मुश्ताक़ अहमद यूसुफ़ी  \n",
      "\n",
      "http://www.hindisamay.com/writer/यशपाल-जैन.cspx?id=2051&name=यशपाल-जैन\n",
      "  यशपाल जैन  \n",
      "\n",
      "http://www.hindisamay.com/writer/यशवंत-कोठारी.cspx?id=1714&name=यशवंत-कोठारी\n",
      "  यशवंत कोठारी  \n",
      "\n",
      "http://www.hindisamay.com/writer/रतननाथ-सरशार.cspx?id=1812&name=रतननाथ-सरशार\n",
      "  रतननाथ सरशार  \n",
      "\n",
      "http://www.hindisamay.com/writer/रमेश-पोखरियाल-निशंक.cspx?id=794&name=रमेश-पोखरियाल-निशंक\n",
      "  रमेश पोखरियाल निशंक  \n",
      "\n",
      "http://www.hindisamay.com/writer/रवींद्रनाथ-टैगोर-.cspx?id=1186&name=रवींद्रनाथ-टैगोर-\n",
      "  रवींद्रनाथ टैगोर   \n",
      "\n",
      "http://www.hindisamay.com/writer/राजकिशोर.cspx?id=955&name=राजकिशोर\n",
      "  राजकिशोर  \n",
      "\n",
      "http://www.hindisamay.com/writer/लमाबम-कमल-सिंह-.cspx?id=2349&name=लमाबम-कमल-सिंह-\n",
      "  लमाबम कमल सिंह   \n",
      "\n",
      "http://www.hindisamay.com/writer/लाला-श्रीनिवास-दास.cspx?id=1419&name=लाला-श्रीनिवास-दास\n",
      "  लाला श्रीनिवास दास  \n",
      "\n",
      "http://www.hindisamay.com/writer/विभूति-नारायण-राय.cspx?id=26&name=विभूति-नारायण-राय\n",
      "  विभूति नारायण राय  \n",
      "\n",
      "http://www.hindisamay.com/writer/विमलेश-त्रिपाठी.cspx?id=1884&name=विमलेश-त्रिपाठी\n",
      "  विमलेश त्रिपाठी  \n",
      "\n",
      "http://www.hindisamay.com/writer/शरतचंद्र-चट्टोपाध्याय.cspx?id=1246&name=शरतचंद्र-चट्टोपाध्याय\n",
      "  शरतचंद्र चट्टोपाध्याय  \n",
      "\n",
      "http://www.hindisamay.com/writer/संतोष-चौबे.cspx?id=3074&name=संतोष-चौबे\n",
      "  संतोष चौबे  \n",
      "\n",
      "http://www.hindisamay.com/writer/संतोष-श्रीवास्तव.cspx?id=399&name=संतोष-श्रीवास्तव\n",
      "  संतोष श्रीवास्तव  \n",
      "\n",
      "http://www.hindisamay.com/writer/सुधाकर-अदीब.cspx?id=419&name=सुधाकर-अदीब\n",
      "  सुधाकर अदीब  \n",
      "\n",
      "http://www.hindisamay.com/writer/सुषम-बेदी.cspx?id=424&name=सुषम-बेदी\n",
      "  सुषम बेदी  \n",
      "\n",
      "http://www.hindisamay.com/writer/सूरज-प्रकाश.cspx?id=430&name=सूरज-प्रकाश\n",
      "  सूरज प्रकाश  \n",
      "\n",
      "http://www.hindisamay.com/writer/सूर्यकांत-त्रिपाठी-निराला.cspx?id=1340&name=सूर्यकांत-त्रिपाठी-निराला\n",
      "  सूर्यकांत त्रिपाठी निराला  \n",
      "\n",
      "http://www.hindisamay.com/writer/हनुमान-प्रसाद-पोद्दार.cspx?id=2210&name=हनुमान-प्रसाद-पोद्दार\n",
      "  हनुमान प्रसाद पोद्दार  \n",
      "\n",
      "http://www.hindisamay.com/writer/हैरियट-वीचर-स्टो.cspx?id=2209&name=हैरियट-वीचर-स्टो\n",
      "  हैरियट वीचर स्टो   \n",
      "\n"
     ]
    }
   ],
   "source": [
    "# Finding elements with specific attributes (and attribute values)\n",
    "# So here, find all `a` tags with a `class` attribute that equals \"link\"\n",
    "list_of_links = soup.find_all(\"div\", {\"class\" : \"group\"})\n",
    "\n",
    "for article in list_of_links:\n",
    "    links = article.find_all(\"a\", {\"href\" : True})\n",
    "    for link in links:\n",
    "        print(link[\"href\"])\n",
    "    print(article.text)\n",
    "    print()\n"
   ]
  },
  {
   "cell_type": "code",
   "execution_count": null,
   "metadata": {
    "colab": {
     "base_uri": "https://localhost:8080/"
    },
    "id": "95MoQcpBRgHe",
    "outputId": "d2d6b475-855c-4379-9122-139f23234697"
   },
   "outputs": [
    {
     "name": "stdout",
     "output_type": "stream",
     "text": [
      "{'  अज्ञेय  ': 'http://www.hindisamay.com/writer/अज्ञेय.cspx?id=1275&name=अज्ञेय', '  अद्वैत मल्लबर्मन  ': 'http://www.hindisamay.com/writer/अद्वैत-मल्लबर्मन.cspx?id=2863&name=अद्वैत-मल्लबर्मन', '  अनवर सुहैल  ': 'http://www.hindisamay.com/writer/अनवर-सुहैल.cspx?id=71&name=अनवर-सुहैल', '  अयोध्या सिंह उपाध्याय हरिऔध   ': 'http://www.hindisamay.com/writer/अयोध्या-सिंह-उपाध्याय-हरिऔध-.cspx?id=1162&name=अयोध्या-सिंह-उपाध्याय-हरिऔध-', '  असग़र वजाहत  ': 'http://www.hindisamay.com/writer/असग़र-वजाहत.cspx?id=41&name=असग़र-वजाहत', '  इंदिरा गोस्वामी  ': 'http://www.hindisamay.com/writer/इंदिरा-गोस्वामी.cspx?id=1385&name=इंदिरा-गोस्वामी', '  इबोहल सिंह काङ्जम  ': 'http://www.hindisamay.com/writer/इबोहल-सिंह-काङ्जम.cspx?id=2350&name=इबोहल-सिंह-काङ्जम', '  इवान तुर्गनेव  ': 'http://www.hindisamay.com/writer/इवान-तुर्गनेव.cspx?id=1958&name=इवान-तुर्गनेव', '  ईश्वरी प्रसाद, कल्याण राय  ': 'http://www.hindisamay.com/writer/ईश्वरी-प्रसाद,-कल्याण-राय.cspx?id=1996&name=ईश्वरी-प्रसाद,-कल्याण-राय', '  उषा किरण खान  ': 'http://www.hindisamay.com/writer/उषा-किरण-खान.cspx?id=744&name=उषा-किरण-खान', '  ए. असफल  ': 'http://www.hindisamay.com/writer/ए.-असफल.cspx?id=2407&name=ए.-असफल', '  कृशन चंदर  ': 'http://www.hindisamay.com/writer/कृशन-चंदर.cspx?id=1180&name=कृशन-चंदर', '  कृष्णदत्त पालीवाल  ': 'http://www.hindisamay.com/writer/कृष्णदत्त-पालीवाल.cspx?id=97&name=कृष्णदत्त-पालीवाल', '  जयनंदन  ': 'http://www.hindisamay.com/writer/जयनंदन.cspx?id=155&name=जयनंदन', '  जयशंकर प्रसाद  ': 'http://www.hindisamay.com/writer/जयशंकर-प्रसाद.cspx?id=1176&name=जयशंकर-प्रसाद', '  जयश्री दत्त  ': 'http://www.hindisamay.com/writer/जयश्री-दत्त.cspx?id=1991&name=जयश्री-दत्त', '  जयश्री रॉय  ': 'http://www.hindisamay.com/writer/जयश्री-रॉय.cspx?id=1893&name=जयश्री-रॉय', '  जितेंद्र विसारिया  ': 'http://www.hindisamay.com/writer/जितेंद्र-विसारिया.cspx?id=2135&name=जितेंद्र-विसारिया', '  ठाकुर जगन्मोहन सिंह  ': 'http://www.hindisamay.com/writer/ठाकुर-जगन्मोहन-सिंह.cspx?id=1723&name=ठाकुर-जगन्मोहन-सिंह', '  तुफ़ैल चतुर्वेदी  ': 'http://www.hindisamay.com/writer/तुफ़ैल-चतुर्वेदी.cspx?id=2132&name=तुफ़ैल-चतुर्वेदी', '  दिनेश द्विवेदी  ': 'http://www.hindisamay.com/writer/दिनेश-द्विवेदी.cspx?id=1386&name=दिनेश-द्विवेदी', '  देवकीनंदन खत्री   ': 'http://www.hindisamay.com/writer/देवकीनंदन-खत्री-.cspx?id=1167&name=देवकीनंदन-खत्री-', '  धर्मवीर भारती   ': 'http://www.hindisamay.com/writer/धर्मवीर-भारती-.cspx?id=1249&name=धर्मवीर-भारती-', '  नरेश नदीम  ': 'http://www.hindisamay.com/writer/नरेश-नदीम.cspx?id=1865&name=नरेश-नदीम', '  नीना पॉल  ': 'http://www.hindisamay.com/writer/नीना-पॉल.cspx?id=2845&name=नीना-पॉल', '  पुष्यमित्र  ': 'http://www.hindisamay.com/writer/पुष्यमित्र.cspx?id=2956&name=पुष्यमित्र', '  प्रेमचंद   ': 'http://www.hindisamay.com/writer/प्रेमचंद-.cspx?id=1152&name=प्रेमचंद-', '  प्रेमचंद सहजवाला  ': 'http://www.hindisamay.com/writer/प्रेमचंद-सहजवाला.cspx?id=1731&name=प्रेमचंद-सहजवाला', '  फ्योदोर दोस्तोयेव्स्की  ': 'http://www.hindisamay.com/writer/फ्योदोर-दोस्तोयेव्स्की.cspx?id=1864&name=फ्योदोर-दोस्तोयेव्स्की', '  बंकिम चन्द्र चट्टोपाध्याय  ': 'http://www.hindisamay.com/writer/बंकिम-चन्द्र-चट्टोपाध्याय.cspx?id=1463&name=बंकिम-चन्द्र-चट्टोपाध्याय', '  भैरव प्रसाद गुप्त  ': 'http://www.hindisamay.com/writer/भैरव-प्रसाद-गुप्त.cspx?id=1165&name=भैरव-प्रसाद-गुप्त', '  मधु कांकरिया  ': 'http://www.hindisamay.com/writer/मधु-कांकरिया.cspx?id=263&name=मधु-कांकरिया', '  मनीषा कुलश्रेष्ठ   ': 'http://www.hindisamay.com/writer/मनीषा-कुलश्रेष्ठ-.cspx?id=1147&name=मनीषा-कुलश्रेष्ठ-', '  मुश्ताक़ अहमद यूसुफ़ी  ': 'http://www.hindisamay.com/writer/मुश्ताक़-अहमद-यूसुफ़ी.cspx?id=2127&name=मुश्ताक़-अहमद-यूसुफ़ी', '  यशपाल जैन  ': 'http://www.hindisamay.com/writer/यशपाल-जैन.cspx?id=2051&name=यशपाल-जैन', '  यशवंत कोठारी  ': 'http://www.hindisamay.com/writer/यशवंत-कोठारी.cspx?id=1714&name=यशवंत-कोठारी', '  रतननाथ सरशार  ': 'http://www.hindisamay.com/writer/रतननाथ-सरशार.cspx?id=1812&name=रतननाथ-सरशार', '  रमेश पोखरियाल निशंक  ': 'http://www.hindisamay.com/writer/रमेश-पोखरियाल-निशंक.cspx?id=794&name=रमेश-पोखरियाल-निशंक', '  रवींद्रनाथ टैगोर   ': 'http://www.hindisamay.com/writer/रवींद्रनाथ-टैगोर-.cspx?id=1186&name=रवींद्रनाथ-टैगोर-', '  राजकिशोर  ': 'http://www.hindisamay.com/writer/राजकिशोर.cspx?id=955&name=राजकिशोर', '  लमाबम कमल सिंह   ': 'http://www.hindisamay.com/writer/लमाबम-कमल-सिंह-.cspx?id=2349&name=लमाबम-कमल-सिंह-', '  लाला श्रीनिवास दास  ': 'http://www.hindisamay.com/writer/लाला-श्रीनिवास-दास.cspx?id=1419&name=लाला-श्रीनिवास-दास', '  विभूति नारायण राय  ': 'http://www.hindisamay.com/writer/विभूति-नारायण-राय.cspx?id=26&name=विभूति-नारायण-राय', '  विमलेश त्रिपाठी  ': 'http://www.hindisamay.com/writer/विमलेश-त्रिपाठी.cspx?id=1884&name=विमलेश-त्रिपाठी', '  शरतचंद्र चट्टोपाध्याय  ': 'http://www.hindisamay.com/writer/शरतचंद्र-चट्टोपाध्याय.cspx?id=1246&name=शरतचंद्र-चट्टोपाध्याय', '  संतोष चौबे  ': 'http://www.hindisamay.com/writer/संतोष-चौबे.cspx?id=3074&name=संतोष-चौबे', '  संतोष श्रीवास्तव  ': 'http://www.hindisamay.com/writer/संतोष-श्रीवास्तव.cspx?id=399&name=संतोष-श्रीवास्तव', '  सुधाकर अदीब  ': 'http://www.hindisamay.com/writer/सुधाकर-अदीब.cspx?id=419&name=सुधाकर-अदीब', '  सुषम बेदी  ': 'http://www.hindisamay.com/writer/सुषम-बेदी.cspx?id=424&name=सुषम-बेदी', '  सूरज प्रकाश  ': 'http://www.hindisamay.com/writer/सूरज-प्रकाश.cspx?id=430&name=सूरज-प्रकाश', '  सूर्यकांत त्रिपाठी निराला  ': 'http://www.hindisamay.com/writer/सूर्यकांत-त्रिपाठी-निराला.cspx?id=1340&name=सूर्यकांत-त्रिपाठी-निराला', '  हनुमान प्रसाद पोद्दार  ': 'http://www.hindisamay.com/writer/हनुमान-प्रसाद-पोद्दार.cspx?id=2210&name=हनुमान-प्रसाद-पोद्दार', '  हैरियट वीचर स्टो   ': 'http://www.hindisamay.com/writer/हैरियट-वीचर-स्टो.cspx?id=2209&name=हैरियट-वीचर-स्टो'}\n"
     ]
    }
   ],
   "source": [
    "\n",
    "# Create a dictionary for the metadata\n",
    "d_metadata = {}\n",
    "\n",
    "list_of_links = soup.find_all(\"div\", {\"class\" : \"group\"})\n",
    "\n",
    "for content in list_of_links:\n",
    "  links = content.find_all(\"a\", {\"href\" : True})\n",
    "  name = content.text\n",
    "  for link in links:\n",
    "    d_metadata[name] = link[\"href\"]\n",
    "\n",
    "metadata = dict(list(d_metadata.items())[1:])\n",
    "print(metadata)\n",
    "\n",
    "\n"
   ]
  },
  {
   "cell_type": "code",
   "execution_count": null,
   "metadata": {
    "colab": {
     "base_uri": "https://localhost:8080/"
    },
    "id": "Mg72JjK5vNJ5",
    "outputId": "d02f4be9-f1ac-43db-caf4-67715166cb2e"
   },
   "outputs": [
    {
     "data": {
      "text/plain": [
       "53"
      ]
     },
     "execution_count": 4,
     "metadata": {},
     "output_type": "execute_result"
    }
   ],
   "source": [
    "len(metadata)"
   ]
  },
  {
   "cell_type": "code",
   "execution_count": null,
   "metadata": {
    "id": "dpW24MgaRgJj"
   },
   "outputs": [],
   "source": [
    "def soup_func(url):\n",
    "  response = requests.get(url)\n",
    "  html = response.text\n",
    "  soup = bs4.BeautifulSoup(html, \"lxml\")\n",
    "  return soup\n",
    "\n",
    "def link_func(soup):\n",
    "  url = \"\"\n",
    "  links = soup.find_all(\"a\")\n",
    "  for link in links:\n",
    "    if link.get_text() == \" >>आगे>>  \":\n",
    "    #print(\"True\")\n",
    "      url= link[\"href\"]\n",
    "  return url.rstrip()\n",
    "\n",
    "def content_func(soup):\n",
    "  spans = soup.find_all(\"span\", {\"id\": \"ContentPlaceHolder1_lblContentText\"})\n",
    "  text = \"\"\n",
    "  for span in spans:\n",
    "    text+=span.text\n",
    "  return text"
   ]
  },
  {
   "cell_type": "code",
   "execution_count": null,
   "metadata": {
    "id": "dQtZuboIzddV"
   },
   "outputs": [],
   "source": [
    "def link_author(url):\n",
    "  response = requests.get(url)\n",
    "  html = response.text\n",
    "\n",
    "  soup = bs4.BeautifulSoup(html, \"lxml\")\n",
    "\n",
    "  list_of_spans = soup.find_all(\"span\", {\"id\" : \"ContentPlaceHolder1_lblRight\"})\n",
    "\n",
    "  list_of_upanyas = []\n",
    "\n",
    "  for span in list_of_spans:\n",
    "    links = span.find_all(\"a\", {\"href\" : True})\n",
    "    for link in links:\n",
    "        for i in link[\"href\"].split(\"-\"):\n",
    "          if i == \"उपन्यास\":\n",
    "            list_of_upanyas.append(link[\"href\"])\n",
    "\n",
    "  return list_of_upanyas\n",
    "\n"
   ]
  },
  {
   "cell_type": "code",
   "execution_count": null,
   "metadata": {
    "id": "LitZhUXKw2PS"
   },
   "outputs": [],
   "source": [
    "def folder(author_name, url):\n",
    "  \n",
    "  directory = author_name\n",
    "  parent_dir = \"/content\"\n",
    "  path = os.path.join(parent_dir, directory)\n",
    "\n",
    "  try: \n",
    "    os.mkdir(path) \n",
    "  except OSError as error: \n",
    "    pass \n",
    "  #print(\"Directory '% s' created\" % directory)\n",
    "\n",
    "  list_of_upanyas = link_author(url)\n",
    "  print(list_of_upanyas)\n",
    "  number = 0\n",
    "\n",
    "  for l in list_of_upanyas:   \n",
    "    soup = soup_func(l.rstrip())\n",
    "    link= \"a\"\n",
    "    content = \"\"\n",
    "\n",
    "    while link:\n",
    "      text = content_func(soup)\n",
    "      content += text\n",
    "      link = link_func(soup)\n",
    "      try:\n",
    "        soup = soup_func(link)\n",
    "      except MissingSchema:\n",
    "        pass\n",
    "    number+=1\n",
    "    print(content)\n",
    "\n",
    "    \n",
    "    #open text file\n",
    "    text_file = open(path + \"/\" + author_name + \" File_\" + str(number) + \".txt\", \"w\")\n",
    "\n",
    "    #write string to file\n",
    "    n = text_file.write(content)\n",
    "\n",
    "    #close file\n",
    "    text_file.close()\n",
    "\n",
    " \n"
   ]
  },
  {
   "cell_type": "code",
   "execution_count": null,
   "metadata": {
    "id": "3jujaHnAYhi0"
   },
   "outputs": [],
   "source": [
    "for key, value in itertools.islice(metadata.items(), 30, 40):\n",
    "  folder(key.strip(), value.rstrip())"
   ]
  },
  {
   "cell_type": "code",
   "execution_count": null,
   "metadata": {
    "colab": {
     "base_uri": "https://localhost:8080/"
    },
    "id": "GcDqNjczaIIn",
    "outputId": "8cbd1293-777b-453e-93c2-503eea7bd96b"
   },
   "outputs": [
    {
     "name": "stdout",
     "output_type": "stream",
     "text": [
      "जयशंकर प्रसाद http://www.hindisamay.com/writer/जयशंकर-प्रसाद.cspx?id=1176&name=जयशंकर-प्रसाद\n",
      "जयश्री दत्त http://www.hindisamay.com/writer/जयश्री-दत्त.cspx?id=1991&name=जयश्री-दत्त\n"
     ]
    }
   ],
   "source": [
    "for key, value in itertools.islice(metadata.items(), 15, 30 ):\n",
    "  print(key.strip(), value.rstrip())"
   ]
  }
 ],
 "metadata": {
  "colab": {
   "provenance": []
  },
  "kernelspec": {
   "display_name": "Python 3 (ipykernel)",
   "language": "python",
   "name": "python3"
  },
  "language_info": {
   "codemirror_mode": {
    "name": "ipython",
    "version": 3
   },
   "file_extension": ".py",
   "mimetype": "text/x-python",
   "name": "python",
   "nbconvert_exporter": "python",
   "pygments_lexer": "ipython3",
   "version": "3.9.13"
  },
  "vscode": {
   "interpreter": {
    "hash": "e227a7e91d976eafb7ddd7f46c6ead0b121e979a03146947305d8648bf20b93f"
   }
  }
 },
 "nbformat": 4,
 "nbformat_minor": 1
}
